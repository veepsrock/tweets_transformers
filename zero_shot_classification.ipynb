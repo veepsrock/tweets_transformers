{
 "cells": [
  {
   "cell_type": "code",
   "execution_count": 1,
   "metadata": {},
   "outputs": [],
   "source": [
    "from transformers import pipeline"
   ]
  },
  {
   "cell_type": "code",
   "execution_count": 2,
   "metadata": {},
   "outputs": [
    {
     "data": {
      "application/vnd.jupyter.widget-view+json": {
       "model_id": "fb4ea41b2dd34ab19a78913d983265b7",
       "version_major": 2,
       "version_minor": 0
      },
      "text/plain": [
       "Downloading:   0%|          | 0.00/570 [00:00<?, ?B/s]"
      ]
     },
     "metadata": {},
     "output_type": "display_data"
    },
    {
     "data": {
      "application/vnd.jupyter.widget-view+json": {
       "model_id": "8b262160b4c7483c8661b0e4aaf3654a",
       "version_major": 2,
       "version_minor": 0
      },
      "text/plain": [
       "Downloading:   0%|          | 0.00/420M [00:00<?, ?B/s]"
      ]
     },
     "metadata": {},
     "output_type": "display_data"
    },
    {
     "name": "stderr",
     "output_type": "stream",
     "text": [
      "Some weights of the model checkpoint at bert-base-uncased were not used when initializing BertForMaskedLM: ['cls.seq_relationship.weight', 'cls.seq_relationship.bias']\n",
      "- This IS expected if you are initializing BertForMaskedLM from the checkpoint of a model trained on another task or with another architecture (e.g. initializing a BertForSequenceClassification model from a BertForPreTraining model).\n",
      "- This IS NOT expected if you are initializing BertForMaskedLM from the checkpoint of a model that you expect to be exactly identical (initializing a BertForSequenceClassification model from a BertForSequenceClassification model).\n"
     ]
    },
    {
     "data": {
      "application/vnd.jupyter.widget-view+json": {
       "model_id": "05319208eb2e4cf588bff3d391dfed98",
       "version_major": 2,
       "version_minor": 0
      },
      "text/plain": [
       "Downloading:   0%|          | 0.00/28.0 [00:00<?, ?B/s]"
      ]
     },
     "metadata": {},
     "output_type": "display_data"
    },
    {
     "data": {
      "application/vnd.jupyter.widget-view+json": {
       "model_id": "430327a3a254461ea781518459baf821",
       "version_major": 2,
       "version_minor": 0
      },
      "text/plain": [
       "Downloading:   0%|          | 0.00/226k [00:00<?, ?B/s]"
      ]
     },
     "metadata": {},
     "output_type": "display_data"
    },
    {
     "data": {
      "application/vnd.jupyter.widget-view+json": {
       "model_id": "41dc9cc934f44f978b58c1fb842f2e75",
       "version_major": 2,
       "version_minor": 0
      },
      "text/plain": [
       "Downloading:   0%|          | 0.00/455k [00:00<?, ?B/s]"
      ]
     },
     "metadata": {},
     "output_type": "display_data"
    }
   ],
   "source": [
    "pipe = pipeline(\"fill-mask\", model = \"bert-base-uncased\")"
   ]
  },
  {
   "cell_type": "markdown",
   "metadata": {},
   "source": [
    "# Construct movie description and add prompt with a masked word"
   ]
  },
  {
   "cell_type": "code",
   "execution_count": 3,
   "metadata": {},
   "outputs": [],
   "source": [
    "movie_desc = \"The main characters of the movie madacascar \\\n",
    "are a lion, a zebra, a giraffe, and a hippo. \"\n",
    "prompt = \"The movie is about [MASK].\""
   ]
  },
  {
   "cell_type": "markdown",
   "metadata": {},
   "source": [
    "## Predict the most likely tokens"
   ]
  },
  {
   "cell_type": "code",
   "execution_count": 4,
   "metadata": {},
   "outputs": [
    {
     "name": "stdout",
     "output_type": "stream",
     "text": [
      "Token animals:\t0.103%\n",
      "Token lions:\t0.066%\n",
      "Token birds:\t0.025%\n",
      "Token love:\t0.015%\n",
      "Token hunting:\t0.013%\n"
     ]
    }
   ],
   "source": [
    "output = pipe(movie_desc + prompt)\n",
    "for element in output:\n",
    "    print(f\"Token {element['token_str']}:\\t{element['score']:.3f}%\")\n"
   ]
  },
  {
   "cell_type": "code",
   "execution_count": 5,
   "metadata": {},
   "outputs": [
    {
     "data": {
      "text/plain": [
       "[{'score': 0.10329356789588928,\n",
       "  'token': 4176,\n",
       "  'token_str': 'animals',\n",
       "  'sequence': 'the main characters of the movie madacascar are a lion, a zebra, a giraffe, and a hippo. the movie is about animals.'},\n",
       " {'score': 0.06553570926189423,\n",
       "  'token': 7212,\n",
       "  'token_str': 'lions',\n",
       "  'sequence': 'the main characters of the movie madacascar are a lion, a zebra, a giraffe, and a hippo. the movie is about lions.'},\n",
       " {'score': 0.02458382584154606,\n",
       "  'token': 5055,\n",
       "  'token_str': 'birds',\n",
       "  'sequence': 'the main characters of the movie madacascar are a lion, a zebra, a giraffe, and a hippo. the movie is about birds.'},\n",
       " {'score': 0.014641789719462395,\n",
       "  'token': 2293,\n",
       "  'token_str': 'love',\n",
       "  'sequence': 'the main characters of the movie madacascar are a lion, a zebra, a giraffe, and a hippo. the movie is about love.'},\n",
       " {'score': 0.012745744548738003,\n",
       "  'token': 5933,\n",
       "  'token_str': 'hunting',\n",
       "  'sequence': 'the main characters of the movie madacascar are a lion, a zebra, a giraffe, and a hippo. the movie is about hunting.'}]"
      ]
     },
     "execution_count": 5,
     "metadata": {},
     "output_type": "execute_result"
    }
   ],
   "source": [
    "output"
   ]
  },
  {
   "cell_type": "markdown",
   "metadata": {},
   "source": [
    "## Query the pipeline for the probability of a few given tokens"
   ]
  },
  {
   "cell_type": "code",
   "execution_count": 6,
   "metadata": {},
   "outputs": [
    {
     "name": "stdout",
     "output_type": "stream",
     "text": [
      "Token animals:\t0.103%\n",
      "Token cars:\t0.001%\n"
     ]
    }
   ],
   "source": [
    "output = pipe(movie_desc + prompt, targets=[\"animals\", \"cars\"])\n",
    "for element in output:\n",
    "    print(f\"Token {element['token_str']}:\\t{element['score']:.3f}%\")\n"
   ]
  },
  {
   "cell_type": "code",
   "execution_count": 7,
   "metadata": {},
   "outputs": [
    {
     "data": {
      "text/plain": [
       "[{'score': 0.10329356789588928,\n",
       "  'token': 4176,\n",
       "  'token_str': 'animals',\n",
       "  'sequence': 'the main characters of the movie madacascar are a lion, a zebra, a giraffe, and a hippo. the movie is about animals.'},\n",
       " {'score': 0.0007419326575472951,\n",
       "  'token': 3765,\n",
       "  'token_str': 'cars',\n",
       "  'sequence': 'the main characters of the movie madacascar are a lion, a zebra, a giraffe, and a hippo. the movie is about cars.'}]"
      ]
     },
     "execution_count": 7,
     "metadata": {},
     "output_type": "execute_result"
    }
   ],
   "source": [
    "output"
   ]
  },
  {
   "cell_type": "code",
   "execution_count": null,
   "metadata": {},
   "outputs": [],
   "source": []
  }
 ],
 "metadata": {
  "kernelspec": {
   "display_name": "bertopic_gpu",
   "language": "python",
   "name": "bertopic_gpu"
  },
  "language_info": {
   "codemirror_mode": {
    "name": "ipython",
    "version": 3
   },
   "file_extension": ".py",
   "mimetype": "text/x-python",
   "name": "python",
   "nbconvert_exporter": "python",
   "pygments_lexer": "ipython3",
   "version": "3.7.13"
  }
 },
 "nbformat": 4,
 "nbformat_minor": 4
}
