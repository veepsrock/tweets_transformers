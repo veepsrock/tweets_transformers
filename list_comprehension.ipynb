{
 "cells": [
  {
   "cell_type": "code",
   "execution_count": 71,
   "id": "1fcb252e",
   "metadata": {},
   "outputs": [],
   "source": [
    "import pandas as pd"
   ]
  },
  {
   "cell_type": "code",
   "execution_count": 5,
   "id": "01884e57",
   "metadata": {},
   "outputs": [],
   "source": [
    "standard = [{'entity': 'B-PER',\n",
    "  'score': 0.9997156,\n",
    "  'index': 1,\n",
    "  'word': 'Nad',\n",
    "  'start': 0,\n",
    "  'end': 3},\n",
    " {'entity': 'I-PER',\n",
    "  'score': 0.9816159,\n",
    "  'index': 2,\n",
    "  'word': '##er',\n",
    "  'start': 3,\n",
    "  'end': 5}]"
   ]
  },
  {
   "cell_type": "code",
   "execution_count": 6,
   "id": "52530059",
   "metadata": {},
   "outputs": [
    {
     "data": {
      "text/plain": [
       "[{'entity': 'B-PER',\n",
       "  'score': 0.9997156,\n",
       "  'index': 1,\n",
       "  'word': 'Nad',\n",
       "  'start': 0,\n",
       "  'end': 3},\n",
       " {'entity': 'I-PER',\n",
       "  'score': 0.9816159,\n",
       "  'index': 2,\n",
       "  'word': '##er',\n",
       "  'start': 3,\n",
       "  'end': 5}]"
      ]
     },
     "execution_count": 6,
     "metadata": {},
     "output_type": "execute_result"
    }
   ],
   "source": [
    "standard"
   ]
  },
  {
   "cell_type": "code",
   "execution_count": 3,
   "id": "df1f52fa",
   "metadata": {},
   "outputs": [],
   "source": [
    "tner = [{'prediction': [['O',\n",
    "    'O',\n",
    "    'O',\n",
    "    'O',\n",
    "    'B-location',\n",
    "    'I-location',\n",
    "    'O',\n",
    "    'O',\n",
    "    'O',\n",
    "    'O',\n",
    "    'O',\n",
    "    'O',\n",
    "    'O',\n",
    "    'O',\n",
    "    'O',\n",
    "    'O',\n",
    "    'O',\n",
    "    'O',\n",
    "    'O',\n",
    "    'O']],\n",
    "  'probability': [[0.9999955892562866,\n",
    "    0.9999895095825195,\n",
    "    0.9999946355819702,\n",
    "    0.9999960660934448,\n",
    "    0.9999827146530151,\n",
    "    0.999980092048645,\n",
    "    0.9999961853027344,\n",
    "    0.9999969005584717,\n",
    "    0.999995231628418,\n",
    "    0.9999967813491821,\n",
    "    0.9999964237213135,\n",
    "    0.9999938011169434,\n",
    "    0.9999810457229614,\n",
    "    0.8373544812202454,\n",
    "    0.5364241003990173,\n",
    "    0.9999908208847046,\n",
    "    0.9999927282333374,\n",
    "    0.9999955892562866,\n",
    "    0.9999911785125732,\n",
    "    0.9999771118164062]],\n",
    "  'input': [['',\n",
    "    'is',\n",
    "    'deeply',\n",
    "    'concerned',\n",
    "    'about',\n",
    "    'china',\n",
    "    's',\n",
    "    'recent',\n",
    "    'effo',\n",
    "    'to',\n",
    "    'establish',\n",
    "    'a',\n",
    "    'panership',\n",
    "    'with',\n",
    "    'myanmar',\n",
    "    's',\n",
    "    'illegitimate',\n",
    "    'and',\n",
    "    'g',\n",
    "    '']],\n",
    "  'entity_prediction': [[{'type': 'location',\n",
    "     'entity': ['about', 'china'],\n",
    "     'position': [4, 5],\n",
    "     'probability': [0.9999827146530151, 0.999980092048645]}]]}]"
   ]
  },
  {
   "cell_type": "code",
   "execution_count": 19,
   "id": "55465fb6",
   "metadata": {},
   "outputs": [
    {
     "name": "stdout",
     "output_type": "stream",
     "text": [
      "O\n",
      "0.9999955892562866\n",
      "\n",
      "{'type': 'location', 'entity': ['about', 'china'], 'position': [4, 5], 'probability': [0.9999827146530151, 0.999980092048645]}\n"
     ]
    }
   ],
   "source": [
    "for id in tner[0].values():\n",
    "    print(id[0][0])"
   ]
  },
  {
   "cell_type": "code",
   "execution_count": 20,
   "id": "ecbfdbf7",
   "metadata": {},
   "outputs": [
    {
     "data": {
      "text/plain": [
       "dict_keys(['prediction', 'probability', 'input', 'entity_prediction'])"
      ]
     },
     "execution_count": 20,
     "metadata": {},
     "output_type": "execute_result"
    }
   ],
   "source": [
    "tner[0].keys()"
   ]
  },
  {
   "cell_type": "code",
   "execution_count": 63,
   "id": "99c746e7",
   "metadata": {},
   "outputs": [],
   "source": [
    "def create_dict(i):\n",
    "    dict =  {\n",
    "    'prediction' : tner[0]['prediction'][0][i],\n",
    "    'probability' : tner[0]['probability'][0][i],\n",
    "    'input' : tner[0]['input'][0][i]}\n",
    "    return dict"
   ]
  },
  {
   "cell_type": "code",
   "execution_count": 69,
   "id": "6e8e3b18",
   "metadata": {},
   "outputs": [],
   "source": [
    "tner_records = []\n",
    "for i in range(len(tner[0]['prediction'][0])):\n",
    "    row_dict = create_dict(i)\n",
    "    tner_records.append(row_dict)"
   ]
  },
  {
   "cell_type": "code",
   "execution_count": 72,
   "id": "20bd78d0",
   "metadata": {},
   "outputs": [],
   "source": [
    "tner_df = pd.DataFrame(tner_records)"
   ]
  },
  {
   "cell_type": "code",
   "execution_count": 73,
   "id": "f583a48f",
   "metadata": {},
   "outputs": [
    {
     "data": {
      "text/html": [
       "<div>\n",
       "<style scoped>\n",
       "    .dataframe tbody tr th:only-of-type {\n",
       "        vertical-align: middle;\n",
       "    }\n",
       "\n",
       "    .dataframe tbody tr th {\n",
       "        vertical-align: top;\n",
       "    }\n",
       "\n",
       "    .dataframe thead th {\n",
       "        text-align: right;\n",
       "    }\n",
       "</style>\n",
       "<table border=\"1\" class=\"dataframe\">\n",
       "  <thead>\n",
       "    <tr style=\"text-align: right;\">\n",
       "      <th></th>\n",
       "      <th>prediction</th>\n",
       "      <th>probability</th>\n",
       "      <th>input</th>\n",
       "    </tr>\n",
       "  </thead>\n",
       "  <tbody>\n",
       "    <tr>\n",
       "      <th>0</th>\n",
       "      <td>O</td>\n",
       "      <td>0.999996</td>\n",
       "      <td></td>\n",
       "    </tr>\n",
       "    <tr>\n",
       "      <th>1</th>\n",
       "      <td>O</td>\n",
       "      <td>0.999990</td>\n",
       "      <td>is</td>\n",
       "    </tr>\n",
       "    <tr>\n",
       "      <th>2</th>\n",
       "      <td>O</td>\n",
       "      <td>0.999995</td>\n",
       "      <td>deeply</td>\n",
       "    </tr>\n",
       "    <tr>\n",
       "      <th>3</th>\n",
       "      <td>O</td>\n",
       "      <td>0.999996</td>\n",
       "      <td>concerned</td>\n",
       "    </tr>\n",
       "    <tr>\n",
       "      <th>4</th>\n",
       "      <td>B-location</td>\n",
       "      <td>0.999983</td>\n",
       "      <td>about</td>\n",
       "    </tr>\n",
       "    <tr>\n",
       "      <th>5</th>\n",
       "      <td>I-location</td>\n",
       "      <td>0.999980</td>\n",
       "      <td>china</td>\n",
       "    </tr>\n",
       "    <tr>\n",
       "      <th>6</th>\n",
       "      <td>O</td>\n",
       "      <td>0.999996</td>\n",
       "      <td>s</td>\n",
       "    </tr>\n",
       "    <tr>\n",
       "      <th>7</th>\n",
       "      <td>O</td>\n",
       "      <td>0.999997</td>\n",
       "      <td>recent</td>\n",
       "    </tr>\n",
       "    <tr>\n",
       "      <th>8</th>\n",
       "      <td>O</td>\n",
       "      <td>0.999995</td>\n",
       "      <td>effo</td>\n",
       "    </tr>\n",
       "    <tr>\n",
       "      <th>9</th>\n",
       "      <td>O</td>\n",
       "      <td>0.999997</td>\n",
       "      <td>to</td>\n",
       "    </tr>\n",
       "    <tr>\n",
       "      <th>10</th>\n",
       "      <td>O</td>\n",
       "      <td>0.999996</td>\n",
       "      <td>establish</td>\n",
       "    </tr>\n",
       "    <tr>\n",
       "      <th>11</th>\n",
       "      <td>O</td>\n",
       "      <td>0.999994</td>\n",
       "      <td>a</td>\n",
       "    </tr>\n",
       "    <tr>\n",
       "      <th>12</th>\n",
       "      <td>O</td>\n",
       "      <td>0.999981</td>\n",
       "      <td>panership</td>\n",
       "    </tr>\n",
       "    <tr>\n",
       "      <th>13</th>\n",
       "      <td>O</td>\n",
       "      <td>0.837354</td>\n",
       "      <td>with</td>\n",
       "    </tr>\n",
       "    <tr>\n",
       "      <th>14</th>\n",
       "      <td>O</td>\n",
       "      <td>0.536424</td>\n",
       "      <td>myanmar</td>\n",
       "    </tr>\n",
       "    <tr>\n",
       "      <th>15</th>\n",
       "      <td>O</td>\n",
       "      <td>0.999991</td>\n",
       "      <td>s</td>\n",
       "    </tr>\n",
       "    <tr>\n",
       "      <th>16</th>\n",
       "      <td>O</td>\n",
       "      <td>0.999993</td>\n",
       "      <td>illegitimate</td>\n",
       "    </tr>\n",
       "    <tr>\n",
       "      <th>17</th>\n",
       "      <td>O</td>\n",
       "      <td>0.999996</td>\n",
       "      <td>and</td>\n",
       "    </tr>\n",
       "    <tr>\n",
       "      <th>18</th>\n",
       "      <td>O</td>\n",
       "      <td>0.999991</td>\n",
       "      <td>g</td>\n",
       "    </tr>\n",
       "    <tr>\n",
       "      <th>19</th>\n",
       "      <td>O</td>\n",
       "      <td>0.999977</td>\n",
       "      <td></td>\n",
       "    </tr>\n",
       "  </tbody>\n",
       "</table>\n",
       "</div>"
      ],
      "text/plain": [
       "    prediction  probability         input\n",
       "0            O     0.999996              \n",
       "1            O     0.999990            is\n",
       "2            O     0.999995        deeply\n",
       "3            O     0.999996     concerned\n",
       "4   B-location     0.999983         about\n",
       "5   I-location     0.999980         china\n",
       "6            O     0.999996             s\n",
       "7            O     0.999997        recent\n",
       "8            O     0.999995          effo\n",
       "9            O     0.999997            to\n",
       "10           O     0.999996     establish\n",
       "11           O     0.999994             a\n",
       "12           O     0.999981     panership\n",
       "13           O     0.837354          with\n",
       "14           O     0.536424       myanmar\n",
       "15           O     0.999991             s\n",
       "16           O     0.999993  illegitimate\n",
       "17           O     0.999996           and\n",
       "18           O     0.999991             g\n",
       "19           O     0.999977              "
      ]
     },
     "execution_count": 73,
     "metadata": {},
     "output_type": "execute_result"
    }
   ],
   "source": [
    "tner_df"
   ]
  },
  {
   "cell_type": "code",
   "execution_count": 70,
   "id": "bb16c759",
   "metadata": {},
   "outputs": [
    {
     "data": {
      "text/plain": [
       "[{'prediction': 'O', 'probability': 0.9999955892562866, 'input': ''},\n",
       " {'prediction': 'O', 'probability': 0.9999895095825195, 'input': 'is'},\n",
       " {'prediction': 'O', 'probability': 0.9999946355819702, 'input': 'deeply'},\n",
       " {'prediction': 'O', 'probability': 0.9999960660934448, 'input': 'concerned'},\n",
       " {'prediction': 'B-location',\n",
       "  'probability': 0.9999827146530151,\n",
       "  'input': 'about'},\n",
       " {'prediction': 'I-location',\n",
       "  'probability': 0.999980092048645,\n",
       "  'input': 'china'},\n",
       " {'prediction': 'O', 'probability': 0.9999961853027344, 'input': 's'},\n",
       " {'prediction': 'O', 'probability': 0.9999969005584717, 'input': 'recent'},\n",
       " {'prediction': 'O', 'probability': 0.999995231628418, 'input': 'effo'},\n",
       " {'prediction': 'O', 'probability': 0.9999967813491821, 'input': 'to'},\n",
       " {'prediction': 'O', 'probability': 0.9999964237213135, 'input': 'establish'},\n",
       " {'prediction': 'O', 'probability': 0.9999938011169434, 'input': 'a'},\n",
       " {'prediction': 'O', 'probability': 0.9999810457229614, 'input': 'panership'},\n",
       " {'prediction': 'O', 'probability': 0.8373544812202454, 'input': 'with'},\n",
       " {'prediction': 'O', 'probability': 0.5364241003990173, 'input': 'myanmar'},\n",
       " {'prediction': 'O', 'probability': 0.9999908208847046, 'input': 's'},\n",
       " {'prediction': 'O',\n",
       "  'probability': 0.9999927282333374,\n",
       "  'input': 'illegitimate'},\n",
       " {'prediction': 'O', 'probability': 0.9999955892562866, 'input': 'and'},\n",
       " {'prediction': 'O', 'probability': 0.9999911785125732, 'input': 'g'},\n",
       " {'prediction': 'O', 'probability': 0.9999771118164062, 'input': ''}]"
      ]
     },
     "execution_count": 70,
     "metadata": {},
     "output_type": "execute_result"
    }
   ],
   "source": [
    "tner_records"
   ]
  },
  {
   "cell_type": "code",
   "execution_count": 43,
   "id": "dde1b92b",
   "metadata": {},
   "outputs": [],
   "source": [
    "new = {\n",
    "    'prediction' : tner[0]['prediction'][0][0],\n",
    "    'probability' : tner[0]['probability'][0][0],\n",
    "    'input' : tner[0]['input'][0][0]}"
   ]
  },
  {
   "cell_type": "code",
   "execution_count": 44,
   "id": "19d5afb0",
   "metadata": {},
   "outputs": [
    {
     "data": {
      "text/plain": [
       "{'prediction': 'O', 'probability': 0.9999955892562866, 'input': ''}"
      ]
     },
     "execution_count": 44,
     "metadata": {},
     "output_type": "execute_result"
    }
   ],
   "source": [
    "new"
   ]
  },
  {
   "cell_type": "code",
   "execution_count": 32,
   "id": "5a0768be",
   "metadata": {},
   "outputs": [
    {
     "data": {
      "text/plain": [
       "True"
      ]
     },
     "execution_count": 32,
     "metadata": {},
     "output_type": "execute_result"
    }
   ],
   "source": [
    "tner[0]['prediction'][0] != 'O'"
   ]
  },
  {
   "cell_type": "code",
   "execution_count": 33,
   "id": "5643e09e",
   "metadata": {},
   "outputs": [
    {
     "data": {
      "text/plain": [
       "{'type': 'location',\n",
       " 'entity': ['about', 'china'],\n",
       " 'position': [4, 5],\n",
       " 'probability': [0.9999827146530151, 0.999980092048645]}"
      ]
     },
     "execution_count": 33,
     "metadata": {},
     "output_type": "execute_result"
    }
   ],
   "source": [
    "tner[0]['entity_prediction'][0][0]"
   ]
  },
  {
   "cell_type": "code",
   "execution_count": 35,
   "id": "21fe1db5",
   "metadata": {},
   "outputs": [
    {
     "data": {
      "text/plain": [
       "{'type': 'location',\n",
       " 'entity': ['about', 'china'],\n",
       " 'position': [4, 5],\n",
       " 'probability': [0.9999827146530151, 0.999980092048645]}"
      ]
     },
     "execution_count": 35,
     "metadata": {},
     "output_type": "execute_result"
    }
   ],
   "source": [
    "tner[0]['entity_prediction'][0][0]"
   ]
  },
  {
   "cell_type": "code",
   "execution_count": 36,
   "id": "99111666",
   "metadata": {},
   "outputs": [
    {
     "data": {
      "text/plain": [
       "'location'"
      ]
     },
     "execution_count": 36,
     "metadata": {},
     "output_type": "execute_result"
    }
   ],
   "source": [
    "tner[0]['entity_prediction'][0][0]['type']"
   ]
  },
  {
   "cell_type": "code",
   "execution_count": 38,
   "id": "98c5d2c9",
   "metadata": {},
   "outputs": [
    {
     "data": {
      "text/plain": [
       "'about'"
      ]
     },
     "execution_count": 38,
     "metadata": {},
     "output_type": "execute_result"
    }
   ],
   "source": [
    "tner[0]['entity_prediction'][0][0]['entity'][0]"
   ]
  },
  {
   "cell_type": "code",
   "execution_count": 39,
   "id": "afcf9f87",
   "metadata": {},
   "outputs": [],
   "source": [
    "new = {\n",
    "    'type' : tner[0]['entity_prediction'][0][0]['type'],\n",
    "    'entity' : tner[0]['entity_prediction'][0][0]['entity'][0],\n",
    "    'position' : tner[0]['entity_prediction'][0][0]['position'][0],\n",
    "    'probability' : tner[0]['entity_prediction'][0][0]['probability'][0]\n",
    "}"
   ]
  },
  {
   "cell_type": "code",
   "execution_count": 40,
   "id": "20c75380",
   "metadata": {},
   "outputs": [
    {
     "data": {
      "text/plain": [
       "{'type': 'location',\n",
       " 'entity': 'about',\n",
       " 'position': 4,\n",
       " 'probability': 0.9999827146530151}"
      ]
     },
     "execution_count": 40,
     "metadata": {},
     "output_type": "execute_result"
    }
   ],
   "source": [
    "new"
   ]
  },
  {
   "cell_type": "code",
   "execution_count": 41,
   "id": "2b034cd3",
   "metadata": {},
   "outputs": [],
   "source": [
    "new2 = {\n",
    "    'type' : tner[0]['entity_prediction'][0][0]['type'],\n",
    "    'entity' : tner[0]['entity_prediction'][0][0]['entity'][1],\n",
    "    'position' : tner[0]['entity_prediction'][0][0]['position'][1],\n",
    "    'probability' : tner[0]['entity_prediction'][0][0]['probability'][1]\n",
    "}"
   ]
  },
  {
   "cell_type": "code",
   "execution_count": 42,
   "id": "f4fd8328",
   "metadata": {},
   "outputs": [
    {
     "data": {
      "text/plain": [
       "{'type': 'location',\n",
       " 'entity': 'china',\n",
       " 'position': 5,\n",
       " 'probability': 0.999980092048645}"
      ]
     },
     "execution_count": 42,
     "metadata": {},
     "output_type": "execute_result"
    }
   ],
   "source": [
    "new2"
   ]
  },
  {
   "cell_type": "code",
   "execution_count": null,
   "id": "6186acb2",
   "metadata": {},
   "outputs": [],
   "source": []
  }
 ],
 "metadata": {
  "kernelspec": {
   "display_name": "bertopic_gpu",
   "language": "python",
   "name": "bertopic_gpu"
  },
  "language_info": {
   "codemirror_mode": {
    "name": "ipython",
    "version": 3
   },
   "file_extension": ".py",
   "mimetype": "text/x-python",
   "name": "python",
   "nbconvert_exporter": "python",
   "pygments_lexer": "ipython3",
   "version": "3.7.13"
  }
 },
 "nbformat": 4,
 "nbformat_minor": 5
}
