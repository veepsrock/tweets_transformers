{
 "cells": [
  {
   "cell_type": "markdown",
   "id": "23077471-3769-41be-9921-249efabbc79e",
   "metadata": {},
   "source": [
    "## This is a notebook to recombine NER entities into one"
   ]
  },
  {
   "cell_type": "code",
   "execution_count": 1,
   "id": "c74e8a51-7463-4070-828d-d9476a7ba967",
   "metadata": {},
   "outputs": [],
   "source": [
    "import pandas as pd\n",
    "import re\n",
    "import numpy as np"
   ]
  },
  {
   "cell_type": "code",
   "execution_count": 12,
   "id": "8ebf399f-7fc9-49f3-b14b-360ec9da63c5",
   "metadata": {},
   "outputs": [],
   "source": [
    "df = pd.read_csv(\"landmine_tweets_ner_results_eng.csv\")"
   ]
  },
  {
   "cell_type": "code",
   "execution_count": 13,
   "id": "ffb33c84-7b4b-47c5-a2c2-ec029b4c73a6",
   "metadata": {},
   "outputs": [],
   "source": [
    "df['tagged_text'] = df['tagged_text'].fillna(\" \")"
   ]
  },
  {
   "cell_type": "code",
   "execution_count": 14,
   "id": "3fe51c52-02be-4d6c-9dde-b631dae03d1b",
   "metadata": {},
   "outputs": [],
   "source": [
    "df['tagged_text'] = df[\"tagged_text\"].str.replace(\"##\", \"\")"
   ]
  },
  {
   "cell_type": "code",
   "execution_count": 15,
   "id": "66c0aca4-22d1-41f6-8b16-598635b32ab8",
   "metadata": {},
   "outputs": [],
   "source": [
    "def combine_ner_tags(df):\n",
    "    combined_tokens = []\n",
    "    cur_tokens = [df.loc[0, \"tagged_text\"]]\n",
    "    for i in range(1, len(df)):\n",
    "        if df.loc[i, \"ner_tag\"].startswith(\"B-\"):\n",
    "            combined_tokens.append(cur_tokens)\n",
    "            cur_tokens = [df.loc[i, \"tagged_text\"]]\n",
    "        elif df.loc[i, \"ner_tag\"].startswith(\"I-\"):\n",
    "             cur_tokens.append(df.loc[i, \"tagged_text\"])\n",
    "    b_tags = df[df[\"ner_tag\"].str.startswith(\"B-\")]\n",
    "    combined_tokens.append([b_tags.tail(1)[\"tagged_text\"].values[0]])\n",
    "    # update the combined text join based on which language. no space for non_eng\n",
    "    combined_text = [' '.join(i) for i in combined_tokens]\n",
    "    b_tags[\"tagged_text\"] = combined_text\n",
    "    return b_tags"
   ]
  },
  {
   "cell_type": "code",
   "execution_count": 16,
   "id": "9d1b1cae-21ae-4253-a074-84913abb0341",
   "metadata": {},
   "outputs": [
    {
     "name": "stderr",
     "output_type": "stream",
     "text": [
      "<ipython-input-15-3cce659609bf>:13: SettingWithCopyWarning: \n",
      "A value is trying to be set on a copy of a slice from a DataFrame.\n",
      "Try using .loc[row_indexer,col_indexer] = value instead\n",
      "\n",
      "See the caveats in the documentation: https://pandas.pydata.org/pandas-docs/stable/user_guide/indexing.html#returning-a-view-versus-a-copy\n",
      "  b_tags[\"tagged_text\"] = combined_text\n"
     ]
    }
   ],
   "source": [
    "df_combined = combine_ner_tags(df)"
   ]
  },
  {
   "cell_type": "code",
   "execution_count": 19,
   "id": "f95a1980-b302-4fa7-9a76-d917a2202987",
   "metadata": {},
   "outputs": [
    {
     "data": {
      "text/html": [
       "<div>\n",
       "<style scoped>\n",
       "    .dataframe tbody tr th:only-of-type {\n",
       "        vertical-align: middle;\n",
       "    }\n",
       "\n",
       "    .dataframe tbody tr th {\n",
       "        vertical-align: top;\n",
       "    }\n",
       "\n",
       "    .dataframe thead th {\n",
       "        text-align: right;\n",
       "    }\n",
       "</style>\n",
       "<table border=\"1\" class=\"dataframe\">\n",
       "  <thead>\n",
       "    <tr style=\"text-align: right;\">\n",
       "      <th></th>\n",
       "      <th>document_id</th>\n",
       "      <th>sentence_number</th>\n",
       "      <th>sentence_text</th>\n",
       "      <th>tagged_text</th>\n",
       "      <th>ner_tag</th>\n",
       "      <th>tagged_text_loci</th>\n",
       "      <th>ner_model</th>\n",
       "      <th>probability</th>\n",
       "    </tr>\n",
       "  </thead>\n",
       "  <tbody>\n",
       "    <tr>\n",
       "      <th>8112</th>\n",
       "      <td>1635232000050331648</td>\n",
       "      <td>1</td>\n",
       "      <td>kashmir indian forces claim to have busted an ...</td>\n",
       "      <td>kashmir</td>\n",
       "      <td>B-group</td>\n",
       "      <td>0</td>\n",
       "      <td>tner/bert-large-tweetner7-2020</td>\n",
       "      <td>0.999973</td>\n",
       "    </tr>\n",
       "    <tr>\n",
       "      <th>8113</th>\n",
       "      <td>1635232000050331648</td>\n",
       "      <td>1</td>\n",
       "      <td>kashmir indian forces claim to have busted an ...</td>\n",
       "      <td>indian forces</td>\n",
       "      <td>B-group</td>\n",
       "      <td>1</td>\n",
       "      <td>tner/bert-large-tweetner7-2020</td>\n",
       "      <td>0.971510</td>\n",
       "    </tr>\n",
       "    <tr>\n",
       "      <th>8115</th>\n",
       "      <td>1635232000050331648</td>\n",
       "      <td>1</td>\n",
       "      <td>kashmir indian forces claim to have busted an ...</td>\n",
       "      <td>islamabad anantnag</td>\n",
       "      <td>B-location</td>\n",
       "      <td>14</td>\n",
       "      <td>tner/bert-large-tweetner7-2020</td>\n",
       "      <td>0.999986</td>\n",
       "    </tr>\n",
       "    <tr>\n",
       "      <th>8117</th>\n",
       "      <td>1635232000050331648</td>\n",
       "      <td>1</td>\n",
       "      <td>kashmir indian forces claim to have busted an ...</td>\n",
       "      <td>9x19mm ammunition pakistani india shakir bashir</td>\n",
       "      <td>B-product</td>\n",
       "      <td>27</td>\n",
       "      <td>tner/bert-large-tweetner7-2020</td>\n",
       "      <td>0.999962</td>\n",
       "    </tr>\n",
       "    <tr>\n",
       "      <th>8123</th>\n",
       "      <td>1635336636186906624</td>\n",
       "      <td>1</td>\n",
       "      <td>the syrian desert is a known jihadist hotspot ...</td>\n",
       "      <td>syrian</td>\n",
       "      <td>B-location</td>\n",
       "      <td>1</td>\n",
       "      <td>tner/bert-large-tweetner7-2020</td>\n",
       "      <td>0.999950</td>\n",
       "    </tr>\n",
       "  </tbody>\n",
       "</table>\n",
       "</div>"
      ],
      "text/plain": [
       "              document_id  sentence_number  \\\n",
       "8112  1635232000050331648                1   \n",
       "8113  1635232000050331648                1   \n",
       "8115  1635232000050331648                1   \n",
       "8117  1635232000050331648                1   \n",
       "8123  1635336636186906624                1   \n",
       "\n",
       "                                          sentence_text  \\\n",
       "8112  kashmir indian forces claim to have busted an ...   \n",
       "8113  kashmir indian forces claim to have busted an ...   \n",
       "8115  kashmir indian forces claim to have busted an ...   \n",
       "8117  kashmir indian forces claim to have busted an ...   \n",
       "8123  the syrian desert is a known jihadist hotspot ...   \n",
       "\n",
       "                                          tagged_text     ner_tag  \\\n",
       "8112                                          kashmir     B-group   \n",
       "8113                                    indian forces     B-group   \n",
       "8115                               islamabad anantnag  B-location   \n",
       "8117  9x19mm ammunition pakistani india shakir bashir   B-product   \n",
       "8123                                           syrian  B-location   \n",
       "\n",
       "      tagged_text_loci                       ner_model  probability  \n",
       "8112                 0  tner/bert-large-tweetner7-2020     0.999973  \n",
       "8113                 1  tner/bert-large-tweetner7-2020     0.971510  \n",
       "8115                14  tner/bert-large-tweetner7-2020     0.999986  \n",
       "8117                27  tner/bert-large-tweetner7-2020     0.999962  \n",
       "8123                 1  tner/bert-large-tweetner7-2020     0.999950  "
      ]
     },
     "execution_count": 19,
     "metadata": {},
     "output_type": "execute_result"
    }
   ],
   "source": [
    "df_combined.tail()"
   ]
  },
  {
   "cell_type": "code",
   "execution_count": 20,
   "id": "b7aa8490-2a96-47cc-b4ad-7fedb9779ee0",
   "metadata": {},
   "outputs": [
    {
     "data": {
      "text/plain": [
       "(3534, 8)"
      ]
     },
     "execution_count": 20,
     "metadata": {},
     "output_type": "execute_result"
    }
   ],
   "source": [
    "df_combined.shape"
   ]
  },
  {
   "cell_type": "code",
   "execution_count": 21,
   "id": "9a7563fa-2fe9-48cc-a052-6e87129e0b14",
   "metadata": {},
   "outputs": [
    {
     "data": {
      "text/plain": [
       "0                                            scooby doo\n",
       "2                                     ashura procession\n",
       "4                                        balkh district\n",
       "6                                        balkh province\n",
       "8                                      sayed ul shuhada\n",
       "                             ...                       \n",
       "8112                                            kashmir\n",
       "8113                                      indian forces\n",
       "8115                                 islamabad anantnag\n",
       "8117    9x19mm ammunition pakistani india shakir bashir\n",
       "8123                                             syrian\n",
       "Name: tagged_text, Length: 3534, dtype: object"
      ]
     },
     "execution_count": 21,
     "metadata": {},
     "output_type": "execute_result"
    }
   ],
   "source": [
    "df_combined[\"tagged_text\"]"
   ]
  },
  {
   "cell_type": "code",
   "execution_count": 22,
   "id": "55fa774d-a30f-420e-99f2-1fb5217204be",
   "metadata": {},
   "outputs": [],
   "source": [
    "df_combined.to_csv(\"landmine_tweets_ner_results_eng_clean.csv\", index = False)"
   ]
  },
  {
   "cell_type": "code",
   "execution_count": null,
   "id": "197ed0cb-8f2e-44c9-ae79-5c25564c8869",
   "metadata": {},
   "outputs": [],
   "source": []
  }
 ],
 "metadata": {
  "kernelspec": {
   "display_name": "Python 3",
   "language": "python",
   "name": "python3"
  },
  "language_info": {
   "codemirror_mode": {
    "name": "ipython",
    "version": 3
   },
   "file_extension": ".py",
   "mimetype": "text/x-python",
   "name": "python",
   "nbconvert_exporter": "python",
   "pygments_lexer": "ipython3",
   "version": "3.8.8"
  }
 },
 "nbformat": 4,
 "nbformat_minor": 5
}
