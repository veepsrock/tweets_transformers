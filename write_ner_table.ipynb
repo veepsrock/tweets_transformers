{
 "cells": [
  {
   "cell_type": "code",
   "execution_count": 44,
   "metadata": {
    "tags": []
   },
   "outputs": [],
   "source": [
    "# import libraries\n",
    "import pandas as pd\n",
    "from mysql.connector import (connection)\n",
    "import os\n",
    "from mysql.connector import Error\n",
    "from pipelines.database.sql import SQLCaller"
   ]
  },
  {
   "cell_type": "code",
   "execution_count": 45,
   "metadata": {
    "tags": []
   },
   "outputs": [],
   "source": [
    "# SQL connection ------------------------------------------------------------------\n",
    "\n",
    "# fetch values from environment variables and set the target database\n",
    "hostname = os.environ['MYSQL_HOST']\n",
    "username = os.environ['MYSQL_USER']\n",
    "password = os.environ['MYSQL_PASSWORD']\n",
    "dbname = 'found'\n",
    "\n",
    "# establish connection to db1 database in your mysql service\n",
    "cnx = connection.MySQLConnection(user=username,\n",
    "                                 password=password,\n",
    "                                 host=hostname,\n",
    "                                 database=dbname)\n",
    "\n",
    "# connect to sql\n",
    "from mysql.connector import (connection)\n",
    "from mysql.connector import Error\n",
    "\n",
    "# fetch values from environment variables and set the target database\n",
    "hostname = os.environ['MYSQL_HOST']\n",
    "username = os.environ['MYSQL_USER']\n",
    "password = os.environ['MYSQL_PASSWORD']\n",
    "dbname = 'found'\n",
    "\n",
    "# establish connection to db1 database in your mysql service\n",
    "cnx = connection.MySQLConnection(user=username,\n",
    "                                 password=password,\n",
    "                                 host=hostname,\n",
    "                                 database=dbname)\n"
   ]
  },
  {
   "cell_type": "code",
   "execution_count": 46,
   "metadata": {
    "tags": []
   },
   "outputs": [],
   "source": [
    "# Load all functions ------------------------------------------------------------\n",
    "def create_sql_query(csv):\n",
    "    \"\"\"\n",
    "    Function takes in a NER tags dataframe and creates the sql query to write to table\n",
    "    csv = csv file as string\n",
    "    \"\"\"\n",
    "    df = pd.read_csv(csv)\n",
    "    columns = list(df.columns)\n",
    "    column_str = f\"({', '.join(columns)})\"\n",
    "    insert_placeholder = \", \".join([\"%s\" for _ in column_str.split(\",\")])\n",
    "    ner_val_dict = df.dropna().to_dict(\"records\")\n",
    "    save_data = [tuple(row.values()) for row in ner_val_dict]\n",
    "    ner_query = f\"INSERT INTO ner_tagged_landmine_tweets {column_str} VALUES ({insert_placeholder});\"\n",
    "    return ner_query, save_data\n"
   ]
  },
  {
   "cell_type": "code",
   "execution_count": 47,
   "metadata": {
    "tags": []
   },
   "outputs": [
    {
     "name": "stdout",
     "output_type": "stream",
     "text": [
      "RFDataScience\n"
     ]
    }
   ],
   "source": [
    "os.environ[\"AWS_PROFILE\"] = \"RFDataScience\"\n",
    "print(os.environ[\"AWS_PROFILE\"])"
   ]
  },
  {
   "cell_type": "code",
   "execution_count": 48,
   "metadata": {
    "tags": []
   },
   "outputs": [],
   "source": [
    "# Read in csv files and write to SQL  ------------------------------------------------------------------\n",
    "csv_list = [\"landmine_tweets_ner_results_non_eng_clean.csv\", \"landmine_tweets_ner_results_eng_clean.csv\"]\n",
    "\n",
    "for csv in csv_list:\n",
    "    ner_query, save_data = create_sql_query(csv)\n",
    "    sql = SQLCaller()\n",
    "    sql.run_insert_query(ner_query, save_data)"
   ]
  },
  {
   "cell_type": "markdown",
   "metadata": {},
   "source": [
    "# Query full table to create file for S3"
   ]
  },
  {
   "cell_type": "code",
   "execution_count": 49,
   "metadata": {
    "tags": []
   },
   "outputs": [],
   "source": [
    "query =(\"SELECT * FROM ner_tagged_landmine_tweets\")"
   ]
  },
  {
   "cell_type": "code",
   "execution_count": 50,
   "metadata": {
    "tags": []
   },
   "outputs": [],
   "source": [
    "df = pd.read_sql_query(query, cnx)"
   ]
  },
  {
   "cell_type": "code",
   "execution_count": 53,
   "metadata": {},
   "outputs": [],
   "source": [
    "df2 = df.drop_duplicates(subset=[\"document_id\", \"sentence_text\", \"tagged_text\"])"
   ]
  },
  {
   "cell_type": "code",
   "execution_count": 56,
   "metadata": {
    "tags": []
   },
   "outputs": [],
   "source": [
    "df2.to_csv(\"ner_tagged_landmine_tweets.csv\")"
   ]
  },
  {
   "cell_type": "markdown",
   "metadata": {},
   "source": [
    "## For deleting tables when needed"
   ]
  },
  {
   "cell_type": "markdown",
   "metadata": {},
   "source": [
    "# DEFINE QUERY\n",
    "# UPDATE DATE\n",
    "query =(\"SELECT * FROM ner_tagged_foundation_tweets\")"
   ]
  },
  {
   "cell_type": "markdown",
   "metadata": {},
   "source": [
    "ner = pd.read_sql_query(query, cnx)"
   ]
  },
  {
   "cell_type": "markdown",
   "metadata": {},
   "source": [
    "import mysql.connector\n",
    "\n",
    "mydb = mysql.connector.connect(\n",
    "  host=hostname,\n",
    "  user=username,\n",
    "  password=password,\n",
    "  database=dbname\n",
    ")\n",
    "\n",
    "mycursor = mydb.cursor()\n",
    "\n",
    "#sql = \"DELETE FROM ner_tagged_landmine_tweets\"\n",
    "# mycursor.execute(sql)\n",
    "\n",
    "# mydb.commit()"
   ]
  },
  {
   "cell_type": "code",
   "execution_count": null,
   "metadata": {},
   "outputs": [],
   "source": []
  }
 ],
 "metadata": {
  "kernelspec": {
   "display_name": "etl",
   "language": "python",
   "name": "etl"
  },
  "language_info": {
   "codemirror_mode": {
    "name": "ipython",
    "version": 3
   },
   "file_extension": ".py",
   "mimetype": "text/x-python",
   "name": "python",
   "nbconvert_exporter": "python",
   "pygments_lexer": "ipython3",
   "version": "3.8.8"
  }
 },
 "nbformat": 4,
 "nbformat_minor": 4
}
