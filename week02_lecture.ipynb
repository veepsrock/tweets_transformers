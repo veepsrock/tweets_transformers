{
 "cells": [
  {
   "cell_type": "markdown",
   "metadata": {
    "pycharm": {
     "name": "#%% md\n"
    },
    "slideshow": {
     "slide_type": "slide"
    }
   },
   "source": [
    "# Week 2 - Virtual Environments, Github and Python\n",
    "\n"
   ]
  },
  {
   "cell_type": "markdown",
   "metadata": {
    "pycharm": {
     "name": "#%% md\n"
    },
    "slideshow": {
     "slide_type": "slide"
    }
   },
   "source": [
    "# Advanced Material\n",
    "\n",
    "- To allow advanced students or students with interest in specific topics to go a bit further than what is covered in the course, I am including a section called _Advanced Topics (optional, on your own only)_ on the syllabus for each week.  \n",
    "- **Feel free to completely ignore these sections!**  \n",
    "- These sections are meant to be autodidactive. The TAs and myself are first and foremost concerned with the material covered in the course.\n",
    "\n",
    "![](images/Citadel-Library.png)"
   ]
  },
  {
   "cell_type": "markdown",
   "metadata": {
    "pycharm": {
     "name": "#%% md\n"
    },
    "slideshow": {
     "slide_type": "slide"
    }
   },
   "source": [
    "# Please use Ed Discussions\n",
    "\n",
    "![](images/damn_emails.gif)"
   ]
  },
  {
   "cell_type": "markdown",
   "metadata": {
    "pycharm": {
     "name": "#%% md\n"
    },
    "slideshow": {
     "slide_type": "slide"
    }
   },
   "source": [
    "## Types of course registration\n",
    "\n",
    "- **For credit, graded**: Required to hand in 7 out of 9 exercises, attend lectures, and complete the final project.\n",
    "\n",
    "- **Pass-Fail**: Same process as graded students. I submit a letter grade which the registrar converts to either P or F. \n",
    "\n",
    "- **R registered students (audit)**:\n",
    "     - Complete 1 of the assignments from week 4 or later.\n",
    "     - Attend 3/4 of the lectures.\n",
    "     - No need to complete final project."
   ]
  },
  {
   "cell_type": "markdown",
   "metadata": {
    "pycharm": {
     "name": "#%% md\n"
    },
    "slideshow": {
     "slide_type": "slide"
    }
   },
   "source": [
    "# Agenda\n",
    "\n",
    "- Python Version Management\n",
    "- Virtual Environments: What is that? Why do I need it? How to set it up?\n",
    "- Intro to version control with Git and Github.\n",
    "- Jupyter notebooks: intro and some add-ons to make live easier\n",
    "- Python: quick refresher on getting started"
   ]
  },
  {
   "cell_type": "markdown",
   "metadata": {
    "pycharm": {
     "name": "#%% md\n"
    },
    "slideshow": {
     "slide_type": "slide"
    }
   },
   "source": [
    "# Virtual Environments\n",
    "\n",
    "![](images/python_environment_chaos.png)"
   ]
  },
  {
   "cell_type": "markdown",
   "metadata": {
    "pycharm": {
     "name": "#%% md\n"
    },
    "slideshow": {
     "slide_type": "slide"
    }
   },
   "source": [
    "# Managing Multiple Python Versions With `pyenv`\n",
    "\n",
    "![](images/pyenv_manage.png)\n"
   ]
  },
  {
   "cell_type": "markdown",
   "metadata": {
    "pycharm": {
     "name": "#%% md\n"
    },
    "slideshow": {
     "slide_type": "subslide"
    }
   },
   "source": [
    "# Python Version Management\n",
    "\n",
    "- tool for managing multiple Python versions alongside each other without conflicts\n",
    "- system python is a common installation of python, where dependencies may conflict over time if working across multiple projects\n",
    "- some operating systems use Python for operation and changing your python version may change how the OS works"
   ]
  },
  {
   "cell_type": "markdown",
   "metadata": {
    "pycharm": {
     "name": "#%% md\n"
    },
    "slideshow": {
     "slide_type": "fragment"
    }
   },
   "source": [
    "![](images/shell_which_python.png)"
   ]
  },
  {
   "cell_type": "markdown",
   "metadata": {
    "pycharm": {
     "name": "#%% md\n"
    },
    "slideshow": {
     "slide_type": "fragment"
    }
   },
   "source": [
    "We can even run these shell commands directly in our notebook here:"
   ]
  },
  {
   "cell_type": "code",
   "execution_count": 7,
   "metadata": {
    "pycharm": {
     "name": "#%%\n"
    },
    "slideshow": {
     "slide_type": "fragment"
    }
   },
   "outputs": [
    {
     "name": "stdout",
     "output_type": "stream",
     "text": [
      "Python 3.9.0\n"
     ]
    }
   ],
   "source": [
    "!python --version"
   ]
  },
  {
   "cell_type": "markdown",
   "metadata": {
    "pycharm": {
     "name": "#%% md\n"
    },
    "slideshow": {
     "slide_type": "subslide"
    }
   },
   "source": [
    "# `pyenv` vs `conda`\n",
    "\n",
    "\n",
    "## `pyenv` (course preference)\n",
    "\n",
    "- `pyenv` is a my preferred tool for installing and managing multiple Python versions \n",
    "- you can manage which Python you’d like to use in your current session, globally, or on a per-project basis as well\n",
    "\n",
    "## `conda`\n",
    "- if you have worked with python as a data scientist, you may already be using Anaconda (or Miniconda)\n",
    "- it is geared towards the data science community and tends to package the most common data science dependencies along with the basic python (which is why engineers prefer the more lightweight `pyenv` solution)\n",
    "- `conda` provides package and environment management in one tool\n",
    "- overall, the approach of `conda` is similar. I leave it up to you which one you implement for your projects."
   ]
  },
  {
   "cell_type": "markdown",
   "metadata": {
    "pycharm": {
     "name": "#%% md\n"
    },
    "slideshow": {
     "slide_type": "subslide"
    }
   },
   "source": [
    "![](images/drake_pyenv_plus_poetry.jpg)"
   ]
  },
  {
   "cell_type": "markdown",
   "metadata": {
    "pycharm": {
     "name": "#%% md\n"
    },
    "slideshow": {
     "slide_type": "subslide"
    }
   },
   "source": [
    "# `pyenv` resolves all these limitations\n",
    "\n",
    "- Install Python in your user space\n",
    "- Install multiple versions of Python\n",
    "- Specify the exact Python version you want\n",
    "- Switch between the installed versions"
   ]
  },
  {
   "cell_type": "markdown",
   "metadata": {
    "pycharm": {
     "name": "#%% md\n"
    },
    "slideshow": {
     "slide_type": "subslide"
    }
   },
   "source": [
    "# Installing `pyenv` and `python`\n",
    "\n",
    "Follow the instructions for [Windows](https://github.com/pyenv-win/pyenv-win) or [MacOSX](https://pythoneveryday.com/pyenv-macos).\n",
    "\n",
    "`pyenv` used to not support Windows but there is support now. If running into issues, [`Conda`](https://docs.conda.io/en/latest/) may be an alternative for you.\n",
    "\n",
    "Once `pyenv` (or whatever python manager you chose) is available, we can install a python version to start. For our class, we will rely on the version `3.9.0`. (the latest stable release is 3.10.6 which I am using as my global default)"
   ]
  },
  {
   "cell_type": "raw",
   "metadata": {
    "pycharm": {
     "name": "#%% raw\n"
    },
    "slideshow": {
     "slide_type": "fragment"
    }
   },
   "source": [
    "pyenv install 3.9.0"
   ]
  },
  {
   "cell_type": "markdown",
   "metadata": {
    "pycharm": {
     "name": "#%% md\n"
    },
    "slideshow": {
     "slide_type": "subslide"
    }
   },
   "source": [
    "# Checking your `python` installation \n",
    "\n",
    "Let's check which versions of python are available on your machine. If you have just started with Python, there may be only one or two here."
   ]
  },
  {
   "cell_type": "raw",
   "metadata": {
    "pycharm": {
     "name": "#%% raw\n"
    },
    "slideshow": {
     "slide_type": "fragment"
    }
   },
   "source": [
    "pyenv versions"
   ]
  },
  {
   "cell_type": "markdown",
   "metadata": {
    "pycharm": {
     "name": "#%% md\n"
    },
    "slideshow": {
     "slide_type": "fragment"
    }
   },
   "source": [
    "The `*` indicates that the system Python version is active currently. You’ll also notice that this is set by a file in your root pyenv directory. This means that, by default, you are still using your system Python.\n",
    "\n",
    "You can set globally and locally which python version to use. I suggest to use our fresh install as you default:"
   ]
  },
  {
   "cell_type": "raw",
   "metadata": {
    "pycharm": {
     "name": "#%% raw\n"
    },
    "slideshow": {
     "slide_type": "fragment"
    }
   },
   "source": [
    "pyenv global 3.10.6"
   ]
  },
  {
   "cell_type": "markdown",
   "metadata": {
    "pycharm": {
     "name": "#%% md\n"
    },
    "slideshow": {
     "slide_type": "fragment"
    }
   },
   "source": [
    "If you ever want to go back to your system version, simply use `pyenv global system`. "
   ]
  },
  {
   "cell_type": "markdown",
   "metadata": {
    "slideshow": {
     "slide_type": "subslide"
    }
   },
   "source": [
    "# Let's test the settings"
   ]
  },
  {
   "cell_type": "code",
   "execution_count": 13,
   "metadata": {
    "slideshow": {
     "slide_type": "-"
    }
   },
   "outputs": [
    {
     "name": "stdout",
     "output_type": "stream",
     "text": [
      "  system\n",
      "  3.7.5\n",
      "  3.8.0\n",
      "  3.8.5\n",
      "  3.8.6\n",
      "* 3.9.0 (set by PYENV_VERSION environment variable)\n",
      "  3.10.6\n"
     ]
    }
   ],
   "source": [
    "# Which python versions are installed on the system?\n",
    "!pyenv versions"
   ]
  },
  {
   "cell_type": "code",
   "execution_count": 11,
   "metadata": {
    "slideshow": {
     "slide_type": "-"
    }
   },
   "outputs": [
    {
     "name": "stdout",
     "output_type": "stream",
     "text": [
      "3.10.6\n"
     ]
    }
   ],
   "source": [
    "# Our globally set python version\n",
    "!pyenv global"
   ]
  },
  {
   "cell_type": "code",
   "execution_count": 12,
   "metadata": {
    "slideshow": {
     "slide_type": "-"
    }
   },
   "outputs": [
    {
     "name": "stdout",
     "output_type": "stream",
     "text": [
      "3.9.0\n"
     ]
    }
   ],
   "source": [
    "# the python version set to be used for our project\n",
    "!pyenv local"
   ]
  },
  {
   "cell_type": "markdown",
   "metadata": {
    "pycharm": {
     "name": "#%% md\n"
    },
    "slideshow": {
     "slide_type": "subslide"
    }
   },
   "source": [
    "# `pyenv` global, local, shell\n",
    "\n",
    "![](images/pyenv_pyramid.png)"
   ]
  },
  {
   "cell_type": "markdown",
   "metadata": {
    "pycharm": {
     "name": "#%% md\n"
    },
    "slideshow": {
     "slide_type": "slide"
    }
   },
   "source": [
    "# Virtual enviroments with `poetry`\n",
    "\n",
    "There is a bit more to learn about `pyenv` but in the interest of time we will skip for now. Consider this [`Intro to pyenv`](https://realpython.com/intro-to-pyenv/) to dig deeper. \n",
    "\n",
    "![](images/pyenv_plus_poetry.png)\n",
    "\n",
    "So, we took care of enabling us to separate our python version across projects. Now let's make sure we also keep our dependencies (that is the packages we need in python) separate by project. "
   ]
  },
  {
   "cell_type": "markdown",
   "metadata": {
    "pycharm": {
     "name": "#%% md\n"
    },
    "slideshow": {
     "slide_type": "subslide"
    }
   },
   "source": [
    "# Installing `poetry`\n",
    "\n",
    "\n",
    "To install Poetry on Windows, launch a powershell window, then:\n",
    "\n",
    "`(Invoke-WebRequest -Uri https://install.python-poetry.org -UseBasicParsing).Content | py -`\n",
    "\n",
    "On a Mac, open a terminal window and run:\n",
    "\n",
    "`curl -sSL https://install.python-poetry.org | python3 -`\n",
    "\n",
    "Find more details in the [official Poetry installation instructions](https://python-poetry.org/docs/#installation).\n"
   ]
  },
  {
   "cell_type": "markdown",
   "metadata": {
    "pycharm": {
     "name": "#%% md\n"
    },
    "slideshow": {
     "slide_type": "subslide"
    }
   },
   "source": [
    "# Create a new poetry project\n",
    "\n",
    "Poetry can create the directory and initial structure for you. "
   ]
  },
  {
   "cell_type": "raw",
   "metadata": {
    "pycharm": {
     "name": "#%% raw\n"
    },
    "slideshow": {
     "slide_type": "fragment"
    }
   },
   "source": [
    "poetry new --name mds --src mds_course"
   ]
  },
  {
   "cell_type": "markdown",
   "metadata": {
    "pycharm": {
     "name": "#%% md\n"
    },
    "slideshow": {
     "slide_type": "fragment"
    }
   },
   "source": [
    "This will create a directory `mds` with the package `mds` in a `src` directory and a `tests` directory which will come in handy later.\n",
    "\n",
    "![](images/poetry_new_package_tree_v2.png)\n",
    "\n",
    "We will learn more about the ways to structure a distribution package, but it is good practice to place Python code in a `src` directory. Poetry supports this with the `--src` flag, as shown above."
   ]
  },
  {
   "cell_type": "markdown",
   "metadata": {
    "pycharm": {
     "name": "#%% md\n"
    },
    "slideshow": {
     "slide_type": "subslide"
    }
   },
   "source": [
    "# Adding dependencies\n",
    "\n",
    "You need to specify which packages your project or package depends on. That is, whenever you import something from another package into the code for your own package, that external package becomes a _dependency_ of your own package.\n",
    "\n",
    "For example, supppose you rely on `pandas`. Go into the your newly created directory (using `cd mds_course` for change directory) and add `pandas` as dependency by typing (in the terminal):"
   ]
  },
  {
   "cell_type": "raw",
   "metadata": {
    "pycharm": {
     "name": "#%% raw\n"
    },
    "slideshow": {
     "slide_type": "fragment"
    }
   },
   "source": [
    "poetry add pandas"
   ]
  },
  {
   "cell_type": "markdown",
   "metadata": {
    "pycharm": {
     "name": "#%% md\n"
    },
    "slideshow": {
     "slide_type": "fragment"
    }
   },
   "source": [
    "![](images/poetry_add_pandas.png) "
   ]
  },
  {
   "cell_type": "markdown",
   "metadata": {
    "pycharm": {
     "name": "#%% md\n"
    },
    "slideshow": {
     "slide_type": "subslide"
    }
   },
   "source": [
    "# Finding packages\n",
    "\n",
    "If you need to hunt for more packages, Poetry has a convenient search utility in `poetry search`, so that `poetry search pandas` will return a list of all PyPI packages with \"pandas\" in the name.\n",
    "\n",
    "![](images/poetry_search_pandas.png)"
   ]
  },
  {
   "cell_type": "markdown",
   "metadata": {
    "pycharm": {
     "name": "#%% md\n"
    },
    "slideshow": {
     "slide_type": "subslide"
    }
   },
   "source": [
    "# Install package and dependencies\n",
    "\n",
    "To install the package itself in developer mode, along with its dependencies:"
   ]
  },
  {
   "cell_type": "raw",
   "metadata": {
    "pycharm": {
     "name": "#%% raw\n"
    },
    "slideshow": {
     "slide_type": "fragment"
    }
   },
   "source": [
    "poetry install"
   ]
  },
  {
   "cell_type": "markdown",
   "metadata": {
    "pycharm": {
     "name": "#%% md\n"
    },
    "slideshow": {
     "slide_type": "fragment"
    }
   },
   "source": [
    "![](images/poetry_install_package.png)"
   ]
  },
  {
   "cell_type": "markdown",
   "metadata": {
    "pycharm": {
     "name": "#%% md\n"
    },
    "slideshow": {
     "slide_type": "fragment"
    }
   },
   "source": [
    "This command will also work when you have clone a repository which already contains a `poetry.lock` file."
   ]
  },
  {
   "cell_type": "markdown",
   "metadata": {
    "pycharm": {
     "name": "#%% md\n"
    },
    "slideshow": {
     "slide_type": "subslide"
    }
   },
   "source": [
    "# Take a look at the created package\n",
    "\n",
    "With `poetry new` above we created a new package. Let's take a quick look what is in that package after having added `pandas` as a dependency:"
   ]
  },
  {
   "cell_type": "raw",
   "metadata": {
    "pycharm": {
     "name": "#%% raw\n"
    },
    "slideshow": {
     "slide_type": "fragment"
    }
   },
   "source": [
    "cat pyproject.toml"
   ]
  },
  {
   "cell_type": "markdown",
   "metadata": {
    "pycharm": {
     "name": "#%% md\n"
    },
    "slideshow": {
     "slide_type": "fragment"
    }
   },
   "source": [
    "![](images/poetry_pyproject_toml_example.png)"
   ]
  },
  {
   "cell_type": "markdown",
   "metadata": {
    "pycharm": {
     "name": "#%% md\n"
    },
    "slideshow": {
     "slide_type": "subslide"
    }
   },
   "source": [
    "# Using the virtual environment\n",
    "\n",
    "We can run commands within the virtual environment we just created. No need to activate the environment as with other environment managers. Just remember `poetry run`. So, to run python in our virtual environment, we use:"
   ]
  },
  {
   "cell_type": "raw",
   "metadata": {
    "pycharm": {
     "name": "#%% raw\n"
    },
    "slideshow": {
     "slide_type": "fragment"
    }
   },
   "source": [
    "poetry run python"
   ]
  },
  {
   "cell_type": "markdown",
   "metadata": {
    "pycharm": {
     "name": "#%% md\n"
    },
    "slideshow": {
     "slide_type": "fragment"
    }
   },
   "source": [
    "![](images/poetry_run_python.png)"
   ]
  },
  {
   "cell_type": "markdown",
   "metadata": {
    "pycharm": {
     "name": "#%% md\n"
    },
    "slideshow": {
     "slide_type": "subslide"
    }
   },
   "source": [
    "# Installing the course dependencies\n",
    "\n",
    "You may have already noticed that in our course repository, there are  `pyproject.toml` and `poetry.lock` files. These will allows us to install all dependencies we need for the lectures:"
   ]
  },
  {
   "cell_type": "raw",
   "metadata": {
    "slideshow": {
     "slide_type": "fragment"
    }
   },
   "source": [
    "# Run the following command in your local copy of the course repo to install all required packages\n",
    "poetry install"
   ]
  },
  {
   "cell_type": "raw",
   "metadata": {
    "pycharm": {
     "name": "#%% raw\n"
    },
    "slideshow": {
     "slide_type": "fragment"
    }
   },
   "source": [
    "# Content of pyproject.toml\n",
    "[tool.poetry]\n",
    "name = \"mds\"\n",
    "version = \"0.1.0\"\n",
    "description = \"QMSS Modern Data Structures\"\n",
    "authors = [\"Thomas Brambor <Thomas.Brambor@columbia.edu>\"]\n",
    "\n",
    "[tool.poetry.dependencies]\n",
    "python = \"^3.9\"\n",
    "Faker = \"^4.14.0\"\n",
    "xlrd = \"^1.2.0\"\n",
    "pandas = \"^1.1.3\"\n",
    "numpy = \"1.21.0\"\n",
    "matplotlib = \"^3.3.2\"\n",
    "jupyterthemes = \"^0.20.0\"\n",
    "jupyter-contrib-nbextensions = \"^0.5.1\"\n",
    "rise = \"^5.7.0\"\n",
    "jupyter = \"^1.0.0\"\n",
    "ipykernel = \"^5.3.4\"\n",
    "plotly = \"^4.12.0\"\n",
    "requests = \"^2.24.0\"\n",
    "jupyter_nbextensions_configurator = \"^0.4.1\"\n",
    "notebook = \"^6.1.4\"\n",
    "pytest-mock = \"^3.3.1\"\n",
    "nbconvert = \"^6.0.7\"\n",
    "bs4 = \"^0.0.1\"\n",
    "html5lib = \"^1.1\"\n",
    "cssselect = \"^1.1.0\"\n",
    "selenium = \"^3.141.0\"\n",
    "ipython-sql = \"^0.4.0\"\n",
    "pyodbc = \"^4.0.30\"\n",
    "psycopg2-binary = \"^2.8.6\"\n",
    "PyMySQL = \"^0.10.1\"\n",
    "gprof2dot = \"^2019.11.30\"\n",
    "snakeviz = \"^2.1.0\"\n",
    "memory-profiler = \"^0.58.0\"\n",
    "tabulate = \"^0.8.7\"\n",
    "GPUtil = \"^1.4.0\"\n",
    "popen = \"^0.1.20\"\n",
    "pandarallel = \"^1.5.1\"\n",
    "ipywidgets = \"^7.5.1\"\n",
    "pandas-profiling = \"^3.0.0\"\n",
    "openpyxl = \"^3.0.9\"\n",
    "python-dotenv = \"^0.19.1\"\n",
    "modin = \"^0.11.3\"\n",
    "jupyterlab = \"^3.4.5\"\n",
    "sp = \"^1.1.0\"\n",
    "spotipy = \"^2.20.0\"\n",
    "\n",
    "[tool.poetry.dev-dependencies]\n",
    "pytest = \"^5.2\"\n",
    "black = \"^20.8b1\"\n",
    "flake8 = \"^3.8.3\"\n",
    "\n",
    "[build-system]\n",
    "requires = [\"poetry>=0.12\"]\n",
    "build-backend = \"poetry.masonry.api\""
   ]
  },
  {
   "cell_type": "markdown",
   "metadata": {
    "pycharm": {
     "name": "#%% md\n"
    },
    "slideshow": {
     "slide_type": "subslide"
    }
   },
   "source": [
    "# Which tool to choose\n",
    "\n",
    "Choosing a set of tools is really a subjective matter. Who are you, what do you do with Python, and what are your needs/desires?\n",
    "\n",
    "**Unsolicited advice about tool choice: use `pyenv` + `Poetry`**\n",
    "\n",
    "Here are more nuanced opinions, some of which are thoughtful and fair.\n",
    "\n",
    "- Are you building a package/project and want a Swiss-army style tool that takes care of a lot for you, and has growing acceptance among the Python community? `Poetry`\n",
    "- Are you a minimalist/traditionist/curmudgeon and proud of it? `venv` (`virtualenv` if you are OK with an additional tool)\n",
    "- Are you writing a simple, possibly short-lived, one-off script? built-in `venv` unless you already have `virtualenv` installed\n",
    "- Do you want to manage a lot of different Python versions and the packages you need are in the Conda repo? `Conda`\n",
    "- Do you want to manage a lot of different Python versions and you don't want (only) Conda? `pyenv-virtualenv`\n",
    "- Do you want to manage a lot of different Python versions and you are the early-adopter take-a-risk type? `Pyflow`\n",
    "- Are you a data scientist? Consider `Conda`\n",
    "- Do you already use ______ and love it? Use that.\n",
    "- Have you tried ______ and hate it? Use one of the others.\n",
    "\n",
    "_Note: See a comparison of these tools by [Jonathan Bowman](https://dev.to/bowmanjd/python-tools-for-managing-virtual-environments-3bko)_"
   ]
  },
  {
   "cell_type": "markdown",
   "metadata": {
    "pycharm": {
     "name": "#%% md\n"
    },
    "slideshow": {
     "slide_type": "slide"
    }
   },
   "source": [
    "# Intro to version control with Git and Github.\n",
    "\n",
    "![](images/git_version_control.png)"
   ]
  },
  {
   "cell_type": "markdown",
   "metadata": {
    "cell_style": "split",
    "pycharm": {
     "name": "#%% md\n"
    },
    "slideshow": {
     "slide_type": "subslide"
    }
   },
   "source": [
    "# What is Git\n",
    "\n",
    "**Git is a _distributed version control system_ (DVCS)**\n",
    "\n",
    "A **version control system** (VCS) is a set of tools that helps you track the history of a set of files. You can tell your VCS (Git, in our case) to save the state of your files at any point. \n",
    "\n",
    "Unlike fully automated backup systems (e.g. compare Dropbox) you will decide when to create these save points by **making a commit** (usually along with a comment about what changed). \n",
    "\n",
    "Having this backup allows you to go back to a previous state of your files. This is great for identifying when a bug came into your code or simply reverting changes that did not work out."
   ]
  },
  {
   "cell_type": "markdown",
   "metadata": {
    "cell_style": "split",
    "pycharm": {
     "name": "#%% md\n"
    },
    "slideshow": {
     "slide_type": "fragment"
    }
   },
   "source": [
    "![](images/git_xkcd.png)"
   ]
  },
  {
   "cell_type": "markdown",
   "metadata": {
    "pycharm": {
     "name": "#%% md\n"
    },
    "slideshow": {
     "slide_type": "subslide"
    }
   },
   "source": [
    "# Distributed Version Control\n",
    "\n",
    "So, what about it is **distributed**?\n",
    "\n",
    "Git does not have a central server that has the definitive version of the repository. All users have a full copy of the repository on their local device. This allows everyone to work offline. \n",
    "\n",
    "But isn't Github a central server? Yes, a lot of developer teams use Github as the web-based hosting services for their git repositories. So, Git is the tool, Github is a service that uses Git. It is convenient to use Github (or some other central server) to share your code."
   ]
  },
  {
   "cell_type": "markdown",
   "metadata": {
    "pycharm": {
     "name": "#%% md\n"
    },
    "slideshow": {
     "slide_type": "subslide"
    }
   },
   "source": [
    "![](images/git_vs_github.jpg)"
   ]
  },
  {
   "cell_type": "markdown",
   "metadata": {
    "pycharm": {
     "name": "#%% md\n"
    },
    "slideshow": {
     "slide_type": "subslide"
    }
   },
   "source": [
    "# Getting started with Git\n",
    "\n",
    "Git can be be used via the command-line or via a graphical interface.\n",
    "\n",
    "![](images/git_gui_vs_cli.png)\n"
   ]
  },
  {
   "cell_type": "markdown",
   "metadata": {
    "pycharm": {
     "name": "#%% md\n"
    },
    "slideshow": {
     "slide_type": "subslide"
    }
   },
   "source": [
    "# Gitkraken\n",
    "\n",
    "![](images/git_kraken_gui.png)\n",
    "\n"
   ]
  },
  {
   "cell_type": "markdown",
   "metadata": {
    "pycharm": {
     "name": "#%% md\n"
    },
    "slideshow": {
     "slide_type": "subslide"
    }
   },
   "source": [
    "# Basic Usage of Git: `git config` and `git init`\n",
    "\n",
    "After [installing git](https://git-scm.com/book/en/v2/Getting-Started-Installing-Git) if not available already, we can get started:\n",
    "\n",
    "First, let's **set the username**:\n",
    "`git config --global user.name \"your name goes here\"`\n",
    "\n",
    "Now, let's **start a new repository**:\n",
    "\n",
    "![](images/git_example_init.png)\n",
    "\n"
   ]
  },
  {
   "cell_type": "markdown",
   "metadata": {
    "pycharm": {
     "name": "#%% md\n"
    },
    "slideshow": {
     "slide_type": "subslide"
    }
   },
   "source": [
    "# `git status`\n",
    "\n",
    "The most useful command to check what is going in is `git status`. For our repository:\n",
    "\n",
    "![](images/git_status_1.png)\n",
    "\n",
    "We now know that:\n",
    "- we are on branch `master`\n",
    "- we have nothing commit. That means there are no files in this directory that Git does not know about or any files that have changes. All as expected, since we just created this directory."
   ]
  },
  {
   "cell_type": "markdown",
   "metadata": {
    "pycharm": {
     "name": "#%% md\n"
    },
    "slideshow": {
     "slide_type": "subslide"
    }
   },
   "source": [
    "# Adding a new file\n",
    "\n",
    "With an editor of your choice, create a file called `greet.py` which only contains a print statement."
   ]
  },
  {
   "cell_type": "raw",
   "metadata": {
    "pycharm": {
     "name": "#%% raw\n"
    },
    "slideshow": {
     "slide_type": "fragment"
    }
   },
   "source": [
    "# greet.py\n",
    "print('Welcome to Git!')"
   ]
  },
  {
   "cell_type": "markdown",
   "metadata": {
    "pycharm": {
     "name": "#%% md\n"
    },
    "slideshow": {
     "slide_type": "fragment"
    }
   },
   "source": [
    "Running `git status` now, we receive different information:\n",
    "\n",
    "![](images/git_status_untracked.png)"
   ]
  },
  {
   "cell_type": "markdown",
   "metadata": {
    "pycharm": {
     "name": "#%% md\n"
    },
    "slideshow": {
     "slide_type": "subslide"
    }
   },
   "source": [
    "# Add untracked file with `git add`\n",
    "\n",
    "Git tells us that a new file is currently not part of the repo and not under version control. We can use the `git add` command to fix that:\n",
    "\n",
    "![](images/git_add.png)\n",
    "\n",
    "Now Git knows about `greet.py` and lists it under changes to be committed. Adding the file to Git moves it into the staging area and means we can commit it to the repo."
   ]
  },
  {
   "cell_type": "markdown",
   "metadata": {
    "pycharm": {
     "name": "#%% md\n"
    },
    "slideshow": {
     "slide_type": "subslide"
    }
   },
   "source": [
    "# Committing Changes with `git commit`\n",
    "\n",
    "When you commit changes, you are telling Git to make a snapshot of this state in the repo. Do that now by using the git commit command. The `-m` option tells Git to use the commit message that follows. If you don’t use -m, Git will bring up an editor for you to create the commit message. In general, you want your commit messages to reflect what has changed in the commit:\n",
    "\n",
    "![](images/git_commit.png)"
   ]
  },
  {
   "cell_type": "markdown",
   "metadata": {
    "pycharm": {
     "name": "#%% md\n"
    },
    "slideshow": {
     "slide_type": "subslide"
    }
   },
   "source": [
    "# Add everything\n",
    "\n",
    "If you want to commit all of the modifications you’ve made, without having to explicitly “add” each file, you can skip the separate add and commit commands and just type\n",
    "\n",
    "`git commit -a`\n",
    "\n",
    "I try to avoid this, as it can lead to mistakes (committing more modifications than intended).\n",
    "\n",
    "![](images/live_dangerously_austin_powers.gif)\n"
   ]
  },
  {
   "cell_type": "markdown",
   "metadata": {
    "pycharm": {
     "name": "#%% md\n"
    },
    "slideshow": {
     "slide_type": "subslide"
    }
   },
   "source": [
    "# Local vs. Remote\n",
    "\n",
    "Even before you send your file to a web-based version of your repo, there are actually three different possible copies of your file at any time:\n",
    "\n",
    "- the version on your hard drive that you are editing\n",
    "- a different version that Git has stored in your staging area\n",
    "- the latest version checked in to the repo\n",
    "\n",
    "![](images/git_overview_locations_part1.png)"
   ]
  },
  {
   "cell_type": "markdown",
   "metadata": {
    "pycharm": {
     "name": "#%% md\n"
    },
    "slideshow": {
     "slide_type": "subslide"
    }
   },
   "source": [
    "# Ignoring files with `.gitignore`\n",
    "\n",
    "Sometimes, you will actually want to exclude some files from being tracked by Git (will explain in a bit why). In each .git repository, we can add a file called `.gitignore` in which we can place exclusions of files, file types, and folders which we don't want to track.\n",
    "\n",
    "Create a new Python file in the same directory called `myname.py`."
   ]
  },
  {
   "cell_type": "raw",
   "metadata": {
    "pycharm": {
     "name": "#%% raw\n"
    },
    "slideshow": {
     "slide_type": "fragment"
    }
   },
   "source": [
    "# myname.py\n",
    "def get_name():\n",
    "    return \"Thomas\""
   ]
  },
  {
   "cell_type": "markdown",
   "metadata": {
    "pycharm": {
     "name": "#%% md\n"
    },
    "slideshow": {
     "slide_type": "fragment"
    }
   },
   "source": [
    "Now, also modify our `greet.py` file to look like:"
   ]
  },
  {
   "cell_type": "raw",
   "metadata": {
    "pycharm": {
     "name": "#%% raw\n"
    },
    "slideshow": {
     "slide_type": "fragment"
    }
   },
   "source": [
    "# greet.py\n",
    "#!/usr/bin/env python3\n",
    "import myname\n",
    "\n",
    "name = myname.get_name()\n",
    "print(\"Hello {}\".format(name))"
   ]
  },
  {
   "cell_type": "markdown",
   "metadata": {
    "pycharm": {
     "name": "#%% md\n"
    },
    "slideshow": {
     "slide_type": "subslide"
    }
   },
   "source": [
    "# Compile code\n",
    "\n",
    "When you import a local module, Python will compile it to bytecode for you and leave that file on your filesystem. In Python 3, it will create a `__pycache__` directory and store a `pyc` file there. \n",
    "\n",
    "![](images/git_pycache_ignore.png)\n",
    "\n",
    "If we run `git status` now, git reminds us that these files are untracked.\n",
    "\n",
    "![](images/git_status_pycache.png)"
   ]
  },
  {
   "cell_type": "markdown",
   "metadata": {
    "pycharm": {
     "name": "#%% md\n"
    },
    "slideshow": {
     "slide_type": "subslide"
    }
   },
   "source": [
    "# Add `.gitignore`\n",
    "\n",
    "To get all `__pycache__` directories (and their contents) to be ignored, we’re going to add a `.gitignore` file to our repo. This is as simple as it sounds. Edit the file (remember the dot in front of the name!) in your favorite editor."
   ]
  },
  {
   "cell_type": "raw",
   "metadata": {
    "pycharm": {
     "name": "#%% raw\n"
    },
    "slideshow": {
     "slide_type": "fragment"
    }
   },
   "source": [
    "# .gitignore\n",
    "__pycache__"
   ]
  },
  {
   "cell_type": "markdown",
   "metadata": {
    "pycharm": {
     "name": "#%% md\n"
    },
    "slideshow": {
     "slide_type": "fragment"
    }
   },
   "source": [
    "![](images/git_add_gitignore.png)"
   ]
  },
  {
   "cell_type": "markdown",
   "metadata": {
    "pycharm": {
     "name": "#%% md\n"
    },
    "slideshow": {
     "slide_type": "subslide"
    }
   },
   "source": [
    "<div>\n",
    "<img src=\"images/morgan_freeman_applause.gif\" width=\"1200\"/>\n",
    "</div>"
   ]
  },
  {
   "cell_type": "markdown",
   "metadata": {
    "pycharm": {
     "name": "#%% md\n"
    },
    "slideshow": {
     "slide_type": "subslide"
    }
   },
   "source": [
    "# Adding Github access to Git CLI\n",
    "\n",
    "- Get a [github](https://github.com/) account.\n",
    "- Download and install [git](https://git-scm.com/downloads).\n",
    "- **Set up git with your user name and email**.\n",
    "    - Open a terminal/shell and type:  \n",
    "    `git config --global user.name \"Your name here\"`  \n",
    "    `git config --global user.email \"your_email@example.com\"`\n",
    "\n",
    "- **Set up ssh on your computer**. See [github’s guide to generating SSH keys](https://docs.github.com/en/github/authenticating-to-github/connecting-to-github-with-ssh).\n",
    "\n",
    "    - Look to see if you have files `~/.ssh/id_rsa` and `~/.ssh/id_rsa.pub`.  \n",
    "    - If not, create such public/private keys: Open a terminal/shell and type:  \n",
    "    `ssh-keygen -t rsa -C \"your_email@example.com\"`  \n",
    "    - Copy your public key (the contents of the newly-created `id_rsa.pub` file) into your clipboard. On a Mac, in the terminal/shell, type:  \n",
    "    `pbcopy < ~/.ssh/id_rsa.pub`\n",
    "    \n",
    "- **Paste your ssh public key into your github account settings**.\n",
    "    - Go to your [github Account Settings](https://github.com/settings/profile). \n",
    "    - Click “SSH Keys” on the left.\n",
    "    - Click “Add SSH Key” on the right.\n",
    "    - Add a label (like “My personal laptop”) and paste the public key into the big text box.\n",
    "    - In a terminal/shell, type the following to test it:\n",
    "    `ssh -T git@github.com`\n",
    "    If it says something like the following, it worked:\n",
    "    `Hi username! You've successfully authenticated, but Github does not provide shell access.`"
   ]
  },
  {
   "cell_type": "markdown",
   "metadata": {
    "pycharm": {
     "name": "#%% md\n"
    },
    "slideshow": {
     "slide_type": "subslide"
    }
   },
   "source": [
    "# Connect your repo to github\n",
    "\n",
    "You’ve now got a local git repository. You can use git locally, like that, if you want. But if you want the thing to have a home on github, do the following.\n",
    "\n",
    "- Go to github.\n",
    "- Log in to your account.\n",
    "- Click the new repository button in the top-right. You’ll have an option there to initialize the repository with a README file.\n",
    "- Click the “Create repository” button."
   ]
  },
  {
   "cell_type": "markdown",
   "metadata": {
    "pycharm": {
     "name": "#%% md\n"
    },
    "slideshow": {
     "slide_type": "subslide"
    }
   },
   "source": [
    "# Push to the remote repository\n",
    "\n",
    "Now, follow the second set of instructions, “Push an existing repository…”\n",
    "\n",
    "`git remote add origin git@github.com:username/new_repo`  \n",
    "`git branch -M master`  \n",
    "`git push -u origin master`\n",
    "\n",
    "Note, that the first line of the instructions will say `git remote add origin https://github.com/username/new_repo`. \n",
    "\n",
    "But I use `git@github.com:username/new_repo` rather than `https://github.com/username/new_repo`, as the former is for use with `ssh` (if you set up ssh above), then you won’t have to type your password every time you push things to github). If you use the latter construction, you’ll have to type your github password every time you push to github."
   ]
  },
  {
   "cell_type": "raw",
   "metadata": {
    "pycharm": {
     "name": "#%% raw\n"
    },
    "slideshow": {
     "slide_type": "fragment"
    }
   },
   "source": [
    "➜  git_example git:(master) git push -u origin master\n",
    "Username for 'https://github.com': tbrambor@gmail.com\n",
    "Password for 'https://tbrambor@gmail.com@github.com': \n",
    "Enumerating objects: 12, done.\n",
    "Counting objects: 100% (12/12), done.\n",
    "Delta compression using up to 8 threads\n",
    "Compressing objects: 100% (8/8), done.\n",
    "Writing objects: 100% (12/12), 1.12 KiB | 1.12 MiB/s, done.\n",
    "Total 12 (delta 0), reused 0 (delta 0)\n",
    "To https://github.com/QMSS-G5072-2022/Brambor_Thomas.git\n",
    " * [new branch]      master -> master\n",
    "Branch 'master' set up to track remote branch 'master' from 'origin'."
   ]
  },
  {
   "cell_type": "markdown",
   "metadata": {
    "pycharm": {
     "name": "#%% md\n"
    },
    "slideshow": {
     "slide_type": "subslide"
    }
   },
   "source": [
    "<div>\n",
    "<img src=\"images/git_pull_commit_push.gif\" width=\"400\"/>\n",
    "</div>"
   ]
  },
  {
   "cell_type": "markdown",
   "metadata": {
    "pycharm": {
     "name": "#%% md\n"
    },
    "slideshow": {
     "slide_type": "subslide"
    }
   },
   "source": [
    "# Some useful git command line commands\n",
    "\n",
    "**`git status`**  \n",
    "`git diff [filename]`  \n",
    "**`git add [filename]`**  \n",
    "`git diff -r HEAD [filename]`  \n",
    "`git diff HEAD~1..HEAD~3`  \n",
    "**`git commit -m “Message in quotes”`**  \n",
    "`git commit --amend - m \"new message\"`  \n",
    "**`git push`**  \n",
    "`git log`  \n",
    "`git log [filename]`  \n",
    "`git log -3 [filename]`  \n",
    "`git annotate filename`  \n",
    "**`.gitignore`**  \n",
    "`git clean [filename]`  \n",
    "`git config --list —-global  [—-local | —-system]`   \n",
    "**`git config --global setting value`** # (e.g. git config —-global user.email tb2729@columbia.edu)     \n",
    "`git reset HEAD`  \n",
    "`git checkout —- filename`  \n",
    "`git checkout .`  "
   ]
  },
  {
   "cell_type": "markdown",
   "metadata": {
    "pycharm": {
     "name": "#%% md\n"
    },
    "slideshow": {
     "slide_type": "subslide"
    }
   },
   "source": [
    "# Local vs Remote: Introducing Github\n",
    "\n",
    "![](images/git_overview_locations_all.png)"
   ]
  },
  {
   "cell_type": "markdown",
   "metadata": {
    "pycharm": {
     "name": "#%% md\n"
    },
    "slideshow": {
     "slide_type": "subslide"
    }
   },
   "source": [
    "# How often to commit?\n",
    "\n",
    "**How often to commit?**\n",
    "I prefer to do many small commits, each for a set of related changes:\n",
    "\n",
    "Think of something that needs to be fixed, or a feature to add.  \n",
    "- Do the work.  \n",
    "- Test that it is okay.  \n",
    "- Add and commit.  \n",
    "- Look at others’ projects on github, to see what they do and what sort of commit messages they write.  "
   ]
  },
  {
   "cell_type": "markdown",
   "metadata": {
    "pycharm": {
     "name": "#%% md\n"
    },
    "slideshow": {
     "slide_type": "subslide"
    }
   },
   "source": [
    "# What NOT to Add to a Git Repo\n",
    "\n",
    "There are some basic rules of thumb about all version control systems.\n",
    "\n",
    "> Only put source files into version control, never generated files.\n",
    "\n",
    "A source file is any file you create, usually by typing in an editor. A generated file is something that the computer creates, usually by processing a source file. For example, `greet.py` is a source file, while `greet.pyc` would be a generated file.\n",
    "\n",
    "> Commit binary files with caution and strongly avoid committing large files.\n",
    "\n",
    "Git does not store a full copy of each version of each file you commit. Rather, it uses an algorithm based on the differences between subsequent versions of a file to greatly reduce the amount of storage it needs. Binary files (like JPGs or MP3 files) don’t really have good diff tools, so Git will frequently just need to store the entire file each time it is committed.\n",
    "\n",
    "> DON'T COMMIT PASSWORDS, API keys, and similar items into a repo (even private ones, I would suggest)."
   ]
  },
  {
   "cell_type": "markdown",
   "metadata": {
    "pycharm": {
     "name": "#%% md\n"
    },
    "slideshow": {
     "slide_type": "slide"
    }
   },
   "source": [
    "# Intro to Gitkraken\n",
    "\n",
    "<div>\n",
    "<img src=\"images/gitkraken.gif\" width=\"1200\"/>\n",
    "</div>"
   ]
  },
  {
   "cell_type": "markdown",
   "metadata": {
    "pycharm": {
     "name": "#%% md\n"
    },
    "slideshow": {
     "slide_type": "subslide"
    }
   },
   "source": [
    "# Steps on a graphical UI for Git\n",
    "\n",
    "- learn the basic Git commands for the command line\n",
    "- try out a graphical UI to interact with Git to see if it complements your workflow:  \n",
    "    \n",
    "    \\*** Gitkraken ([Pro License free](https://www.gitkraken.com/github-student-developer-pack) | [Tutorials](https://www.gitkraken.com/resources/learn-git))  \n",
    "    \n",
    "    \\** SourceTree ([Download](https://www.sourcetreeapp.com/))  \n",
    "    \n",
    "    \\* Github Desktop ([Download)(https://desktop.github.com/))"
   ]
  },
  {
   "cell_type": "markdown",
   "metadata": {
    "pycharm": {
     "name": "#%% md\n"
    },
    "slideshow": {
     "slide_type": "subslide"
    }
   },
   "source": [
    "# Go to class organization\n",
    "\n",
    "\n",
    "\n",
    "![](images/github_qmss_2022.png)\n",
    "\n"
   ]
  },
  {
   "cell_type": "markdown",
   "metadata": {
    "pycharm": {
     "name": "#%% md\n"
    },
    "slideshow": {
     "slide_type": "subslide"
    }
   },
   "source": [
    "# Add your student repository\n",
    "\n",
    "![](images/github_new_student_repository.png)"
   ]
  },
  {
   "cell_type": "markdown",
   "metadata": {
    "pycharm": {
     "name": "#%% md\n"
    },
    "slideshow": {
     "slide_type": "subslide"
    }
   },
   "source": [
    "# Cloning a repository\n",
    "\n",
    "A clone is a copy of a repository that lives on your computer instead of on a website’s server somewhere, or the act of making that copy.\n",
    "\n",
    "![](images/github_step2_clone.png)\n"
   ]
  },
  {
   "cell_type": "markdown",
   "metadata": {
    "pycharm": {
     "name": "#%% md\n"
    },
    "slideshow": {
     "slide_type": "subslide"
    }
   },
   "source": [
    "# Clone course repository and set up virtual environment\n",
    "\n",
    "1. Clone repository \n",
    "    - `git clone https://github.com/QMSS-G5072-2022/course_content.git` \n",
    "    OR\n",
    "    - via GUI of your preferred Git software\n",
    "\n",
    "\n",
    "2. Create virtual environment with `poetry`\n",
    "    - Go to the folder of your reposity\n",
    "    - run `poetry install` ... this will take a while, so we will continue while this is ongoing\n",
    "\n",
    "\n",
    "3. Fetch changes each week to get the newest material, exercises etc.\n"
   ]
  },
  {
   "cell_type": "markdown",
   "metadata": {
    "pycharm": {
     "name": "#%% md\n"
    },
    "slideshow": {
     "slide_type": "slide"
    }
   },
   "source": [
    "# Github - Branching (optional for this course)"
   ]
  },
  {
   "cell_type": "markdown",
   "metadata": {
    "pycharm": {
     "name": "#%% md\n"
    },
    "slideshow": {
     "slide_type": "subslide"
    }
   },
   "source": [
    "# Github Flow - Create a branch\n",
    "\n",
    "![](images/gihub_flow_branch.png)\n",
    "\n",
    "- Try out ideas for your project by creating a branch.\n",
    "- Changes you make on a branch don't affect the master branch, so you're free to experiment and commit changes."
   ]
  },
  {
   "cell_type": "markdown",
   "metadata": {
    "pycharm": {
     "name": "#%% md\n"
    },
    "slideshow": {
     "slide_type": "subslide"
    }
   },
   "source": [
    "# Github Flow - Add commits\n",
    "\n",
    "![](images/gihub_flow_commits.png)\n",
    "\n",
    "- Whenever you add, edit, or delete a file, you're making a commit, and adding them to your branch. \n",
    "- Keeps track of your progress as you work on a branch.\n",
    "- Transparent history of your work with associated commit message (i.e a description of your change).\n",
    "- Allows you to roll back if things go awry."
   ]
  },
  {
   "cell_type": "markdown",
   "metadata": {
    "pycharm": {
     "name": "#%% md\n"
    },
    "slideshow": {
     "slide_type": "subslide"
    }
   },
   "source": [
    "# Github Flow - Pull Request\n",
    "\n",
    "![](images/gihub_flow_pullrequest.png)\n",
    "\n",
    "- Pull Requests initiate discussion about your commits. \n",
    "- Anyone can see exactly what changes would be merged if they accept your request.\n",
    "- Using GitHub's @mention system in your Pull Request message to ask for feedback from your team."
   ]
  },
  {
   "cell_type": "markdown",
   "metadata": {
    "pycharm": {
     "name": "#%% md\n"
    },
    "slideshow": {
     "slide_type": "subslide"
    }
   },
   "source": [
    "# Github Flow - Discuss and Review\n",
    "\n",
    "![](images/gihub_flow_discuss.png)\n",
    "\n",
    "- Discuss and review the changes. \n",
    "- Continue to fix code and push up the change with new commits.\n",
    "- GitHub will show your new commits and any additional feedback you may receive in the unified Pull Request view."
   ]
  },
  {
   "cell_type": "markdown",
   "metadata": {
    "pycharm": {
     "name": "#%% md\n"
    },
    "slideshow": {
     "slide_type": "subslide"
    }
   },
   "source": [
    "# Github Flow - Deploy\n",
    "\n",
    "![](images/gihub_flow_deploy.png)\n",
    "\n",
    "- Check your branch to verify it works.\n",
    "- If your branch causes issues, you can roll it back by deploying the existing master again.\n"
   ]
  },
  {
   "cell_type": "markdown",
   "metadata": {
    "pycharm": {
     "name": "#%% md\n"
    },
    "slideshow": {
     "slide_type": "subslide"
    }
   },
   "source": [
    "# Github Flow - Merge\n",
    "\n",
    "![](images/gihub_flow_merge.png)\n",
    "\n",
    "- Merge your code into the master branch.\n",
    "- Pull Requests preserve a record of the historical changes to your code. Because they're searchable, they let anyone go back in time to understand why and how a decision was made.\n"
   ]
  },
  {
   "cell_type": "markdown",
   "metadata": {
    "pycharm": {
     "name": "#%% md\n"
    },
    "slideshow": {
     "slide_type": "subslide"
    }
   },
   "source": [
    "# Intermediate Level: Branching\n",
    "\n",
    "\n",
    "<div>\n",
    "<img src=\"images/dog_branch.gif\" width=\"500\"/>\n",
    "</div>"
   ]
  },
  {
   "cell_type": "markdown",
   "metadata": {
    "pycharm": {
     "name": "#%% md\n"
    },
    "slideshow": {
     "slide_type": "subslide"
    }
   },
   "source": [
    "# Add a new branch\n",
    "\n",
    "![](images/gitkraken_create_branch.png)"
   ]
  },
  {
   "cell_type": "markdown",
   "metadata": {
    "pycharm": {
     "name": "#%% md\n"
    },
    "slideshow": {
     "slide_type": "subslide"
    }
   },
   "source": [
    "# Create Pull request\n",
    "\n",
    "- commit and push your changes\n",
    "- create a pull request to merge into master\n",
    "\n",
    "![](images/gitkraken_create_pull_request.png)"
   ]
  },
  {
   "cell_type": "markdown",
   "metadata": {
    "pycharm": {
     "name": "#%% md\n"
    },
    "slideshow": {
     "slide_type": "subslide"
    }
   },
   "source": [
    "# Pull request on Github\n",
    "\n",
    "![](images/github_create_pull_request.png)"
   ]
  },
  {
   "cell_type": "markdown",
   "metadata": {
    "pycharm": {
     "name": "#%% md\n"
    },
    "slideshow": {
     "slide_type": "subslide"
    }
   },
   "source": [
    "# Expert Level\n",
    "\n",
    "Want to know more? Check this [advanced git tutorial](https://realpython.com/advanced-git-for-pythonistas/).\n",
    "\n",
    "![](images/expert_level_cat.gif)"
   ]
  },
  {
   "cell_type": "markdown",
   "metadata": {
    "cell_style": "split",
    "pycharm": {
     "name": "#%% md\n"
    },
    "slideshow": {
     "slide_type": "subslide"
    }
   },
   "source": [
    "# Learn more Git\n",
    "\n",
    "- `stash`\n",
    "- `rebase`\n",
    "- `squash`\n",
    "- `reset`\n",
    "- `cherry-pick` \n",
    "- `blame`"
   ]
  },
  {
   "cell_type": "markdown",
   "metadata": {
    "cell_style": "split",
    "pycharm": {
     "name": "#%% md\n"
    },
    "slideshow": {
     "slide_type": "fragment"
    }
   },
   "source": [
    "![](images/git_advanced_xkcd.png)\n"
   ]
  },
  {
   "cell_type": "markdown",
   "metadata": {
    "pycharm": {
     "name": "#%% md\n"
    },
    "slideshow": {
     "slide_type": "slide"
    }
   },
   "source": [
    "# Jupyter Notebooks\n",
    "\n",
    "![](images/jupyter_notebooks.png)"
   ]
  },
  {
   "cell_type": "markdown",
   "metadata": {
    "pycharm": {
     "name": "#%% md\n"
    },
    "slideshow": {
     "slide_type": "subslide"
    }
   },
   "source": [
    "# Getting Up and Running With Jupyter Notebook\n",
    "\n",
    "One of the dependencies for our course is `jupyter`. If you use another virtual environment make sure to run\n",
    "\n",
    "`poetry add jupyter`\n",
    "\n",
    "We can then start the jupyter server:\n",
    "\n",
    "`poetry run jupyter notebook`\n",
    "\n",
    "This will start up Jupyter and your default browser should start (or open a new tab) to the following URL: http://localhost:8888/tree\n",
    "\n",
    "![](images/jupyter_01_initial_screen.png)\n"
   ]
  },
  {
   "cell_type": "markdown",
   "metadata": {
    "pycharm": {
     "name": "#%% md\n"
    },
    "slideshow": {
     "slide_type": "subslide"
    }
   },
   "source": [
    "# Start a new notebook\n",
    "\n",
    "Start a new notebook and familiarize yourself with the setup a bit (for the completely uninitiated, here is an [intro to jupyter](https://realpython.com/jupyter-notebook-introduction/)).\n",
    "\n",
    "All course lectures are written in Jupyter as well. So, try to run the the jupyter slides for today's lecture and ideally view the slides as well."
   ]
  },
  {
   "cell_type": "markdown",
   "metadata": {
    "pycharm": {
     "name": "#%% md\n"
    },
    "slideshow": {
     "slide_type": "subslide"
    }
   },
   "source": [
    "![](images/Jupyter_Notebook_Cheat_Sheet.png)\n",
    "\n"
   ]
  },
  {
   "cell_type": "markdown",
   "metadata": {
    "pycharm": {
     "name": "#%% md\n"
    },
    "slideshow": {
     "slide_type": "subslide"
    }
   },
   "source": [
    "# Adding rich content\n",
    "\n",
    "There are several cell types: Code, Markdown, Raw NBConvert\n",
    "    \n",
    "If you use the `rise` plugin, this will extend to slide related types. You can ignore these for now unless you want to create slides yourself.\n",
    "\n",
    "One attractive feature is the ability to add rich content via markdown.\n",
    "\n",
    "![](images/markdown_third_way.png)"
   ]
  },
  {
   "cell_type": "markdown",
   "metadata": {
    "pycharm": {
     "name": "#%% md\n"
    },
    "slideshow": {
     "slide_type": "subslide"
    }
   },
   "source": [
    "\n",
    "# Simple Formatting with Markdown\n",
    "\n",
    "You can use Markdown to embed formatting instructions into your text. For example, you can make a word _italicized_ by surrounding it in asterisks, **bold** by surrounding it in two asterisks, and `monospaced` (like code) by surrounding it in backticks:\n",
    "\n",
    "\\* *italics* \\*, \\*\\***bold**\\*\\*, `` `code` ``\n",
    " \n",
    "You can turn a word into a [link](www.google.com) by surrounding it in hard brackets and then placing the link behind it in parentheses, like this:\n",
    "\n",
    "[Columbia U\\](www.columbia.edu)"
   ]
  },
  {
   "cell_type": "markdown",
   "metadata": {
    "pycharm": {
     "name": "#%% md\n"
    },
    "slideshow": {
     "slide_type": "subslide"
    }
   },
   "source": [
    "# Headers\n",
    "\n",
    "To create titles and headers, use leading hastags. The number of hashtags determines the header's level:\n",
    "\n",
    "\\# First level header  \n",
    "\\#\\# Second level header  \n",
    "\\#\\#\\# Third level header  "
   ]
  },
  {
   "cell_type": "markdown",
   "metadata": {
    "pycharm": {
     "name": "#%% md\n"
    },
    "slideshow": {
     "slide_type": "subslide"
    }
   },
   "source": [
    "# Lists\n",
    "\n",
    "To make a bulleted list in Markdown, place each item on a new line after an asterisk and a space, like this:\n",
    "\n",
    "\\* item 1  \n",
    "\\* item 2  \n",
    "\\* item 3\n",
    "\n",
    "You can make an ordered list by placing each item on a new line after a number followed by a period followed by a space.\n",
    "\n",
    "1\\. item 1  \n",
    "2\\. item 2  \n",
    "3\\. item 3"
   ]
  },
  {
   "cell_type": "markdown",
   "metadata": {
    "pycharm": {
     "name": "#%% md\n"
    },
    "slideshow": {
     "slide_type": "subslide"
    }
   },
   "source": [
    "# Embedding equations\n",
    "\n",
    "You can also use the Markdown syntax to embed latex math equations into your reports. To embed an equation in its own centered equation block, surround the equation with two pairs of dollar signs like this,\n",
    "\n",
    "`$$1 + 1 = 2$$`\n",
    "\n",
    "To embed an equation inline, surround it with a single pair of dollar signs, like this: `$1 + 1 = 2$`. Then this will be displayed: $1 + 1 = 2$\n",
    "\n",
    "All [standard Latex symbols](https://en.wikibooks.org/wiki/LaTeX/Mathematics) work."
   ]
  },
  {
   "cell_type": "markdown",
   "metadata": {
    "pycharm": {
     "name": "#%% md\n"
    },
    "slideshow": {
     "slide_type": "subslide"
    }
   },
   "source": [
    "# Markdown Syntax Cheat Cheat\n",
    "\n",
    "All Markdown applications support these elements. Here are the most common ones again showing how they all look once rendered.\n",
    "\n",
    "### Heading\n",
    "\n",
    "# H1\n",
    "## H2\n",
    "### H3\n",
    "\n",
    "### Bold\n",
    "\n",
    "**bold text**\n",
    "\n",
    "### Italic\n",
    "\n",
    "*italicized text*\n",
    "\n",
    "### Blockquote\n",
    "\n",
    "> blockquote\n",
    "\n",
    "### Ordered List\n",
    "\n",
    "1. First item\n",
    "2. Second item\n",
    "3. Third item\n",
    "\n",
    "### Unordered List\n",
    "\n",
    "- First item\n",
    "- Second item\n",
    "- Third item\n",
    "\n",
    "### Code\n",
    "\n",
    "`code`\n",
    "\n",
    "### Horizontal Rule\n",
    "\n",
    "---\n",
    "\n",
    "### Link\n",
    "\n",
    "[title](https://www.example.com)\n",
    "\n",
    "### Image\n",
    "\n",
    "![alt text](images/its-the-final-markdown.jpg)\n",
    "\n",
    "## Extended Syntax\n",
    "\n",
    "These elements extend the basic syntax by adding additional features. Not all Markdown applications support these elements.\n",
    "\n",
    "### Table\n",
    "\n",
    "| Syntax | Description |\n",
    "| ----------- | ----------- |\n",
    "| Header | Title |\n",
    "| Paragraph | Text |\n",
    "\n",
    "### Fenced Code Block\n",
    "\n",
    "```\n",
    "{\n",
    "  \"firstName\": \"John\",\n",
    "  \"lastName\": \"Smith\",\n",
    "  \"age\": 25\n",
    "}\n",
    "```\n",
    "\n",
    "### Footnote\n",
    "\n",
    "Here's a sentence with a footnote. [^1]\n",
    "\n",
    "[^1]: This is the footnote.\n",
    "\n",
    "### Heading ID\n",
    "\n",
    "### My Great Heading {#custom-id}\n",
    "\n",
    "### Definition List\n",
    "\n",
    "term\n",
    ": definition\n",
    "\n",
    "### Strikethrough\n",
    "\n",
    "~~The world is flat.~~\n",
    "\n",
    "### Task List\n",
    "\n",
    "- [x] Write the press release\n",
    "- [ ] Update the website\n",
    "- [ ] Contact the media\n",
    "\n"
   ]
  },
  {
   "cell_type": "markdown",
   "metadata": {
    "pycharm": {
     "name": "#%% md\n"
    },
    "slideshow": {
     "slide_type": "subslide"
    }
   },
   "source": [
    "# `nbextensions`\n",
    "\n",
    "Another set of dependencies we use are:\n",
    "    - `nbextensions` which adds lots of convencience add-on functionalities. Not necessary but surely useful\n",
    "    - `rise`: this extension allows us to create slides (like the lectures) directly in jupyter. If you want to see the lectures as slides, you will need it.\n",
    "    \n",
    "![](images/jupyter_nbextensions_rise.png)"
   ]
  },
  {
   "cell_type": "markdown",
   "metadata": {
    "pycharm": {
     "name": "#%% md\n"
    },
    "slideshow": {
     "slide_type": "slide"
    }
   },
   "source": [
    "# Basic Python\n",
    "\n",
    "All things that follow should not be new. This should be a quick refresher only. And incomplete at that.\n",
    "\n",
    "![](images/basic_python.png)"
   ]
  },
  {
   "cell_type": "markdown",
   "metadata": {
    "pycharm": {
     "name": "#%% md\n"
    },
    "slideshow": {
     "slide_type": "subslide"
    }
   },
   "source": [
    "# Variables and Data Types"
   ]
  },
  {
   "cell_type": "code",
   "execution_count": 2,
   "metadata": {
    "pycharm": {
     "name": "#%%\n"
    },
    "slideshow": {
     "slide_type": "fragment"
    }
   },
   "outputs": [
    {
     "data": {
      "text/plain": [
       "5"
      ]
     },
     "execution_count": 2,
     "metadata": {},
     "output_type": "execute_result"
    }
   ],
   "source": [
    "x=5\n",
    "x"
   ]
  },
  {
   "cell_type": "code",
   "execution_count": 3,
   "metadata": {
    "pycharm": {
     "name": "#%%\n"
    },
    "slideshow": {
     "slide_type": "fragment"
    }
   },
   "outputs": [
    {
     "data": {
      "text/plain": [
       "7"
      ]
     },
     "execution_count": 3,
     "metadata": {},
     "output_type": "execute_result"
    }
   ],
   "source": [
    "# Calculations\n",
    "x+2"
   ]
  },
  {
   "cell_type": "code",
   "execution_count": 4,
   "metadata": {
    "pycharm": {
     "name": "#%%\n"
    },
    "slideshow": {
     "slide_type": "fragment"
    }
   },
   "outputs": [
    {
     "data": {
      "text/plain": [
       "2.5"
      ]
     },
     "execution_count": 4,
     "metadata": {},
     "output_type": "execute_result"
    }
   ],
   "source": [
    "x/2"
   ]
  },
  {
   "cell_type": "code",
   "execution_count": 5,
   "metadata": {
    "pycharm": {
     "name": "#%%\n"
    },
    "slideshow": {
     "slide_type": "fragment"
    }
   },
   "outputs": [
    {
     "data": {
      "text/plain": [
       "1"
      ]
     },
     "execution_count": 5,
     "metadata": {},
     "output_type": "execute_result"
    }
   ],
   "source": [
    "x%2"
   ]
  },
  {
   "cell_type": "markdown",
   "metadata": {
    "pycharm": {
     "name": "#%% md\n"
    },
    "slideshow": {
     "slide_type": "subslide"
    }
   },
   "source": [
    "# Types and Type Conversion\n",
    "\n",
    "    str()\n",
    "    int()\n",
    "    float()\n",
    "    bool()"
   ]
  },
  {
   "cell_type": "markdown",
   "metadata": {
    "pycharm": {
     "name": "#%% md\n"
    },
    "slideshow": {
     "slide_type": "subslide"
    }
   },
   "source": [
    "# Asking for help"
   ]
  },
  {
   "cell_type": "code",
   "execution_count": 6,
   "metadata": {
    "pycharm": {
     "name": "#%%\n"
    },
    "slideshow": {
     "slide_type": "fragment"
    }
   },
   "outputs": [
    {
     "name": "stdout",
     "output_type": "stream",
     "text": [
      "Help on class str in module builtins:\n",
      "\n",
      "class str(object)\n",
      " |  str(object='') -> str\n",
      " |  str(bytes_or_buffer[, encoding[, errors]]) -> str\n",
      " |  \n",
      " |  Create a new string object from the given object. If encoding or\n",
      " |  errors is specified, then the object must expose a data buffer\n",
      " |  that will be decoded using the given encoding and error handler.\n",
      " |  Otherwise, returns the result of object.__str__() (if defined)\n",
      " |  or repr(object).\n",
      " |  encoding defaults to sys.getdefaultencoding().\n",
      " |  errors defaults to 'strict'.\n",
      " |  \n",
      " |  Methods defined here:\n",
      " |  \n",
      " |  __add__(self, value, /)\n",
      " |      Return self+value.\n",
      " |  \n",
      " |  __contains__(self, key, /)\n",
      " |      Return key in self.\n",
      " |  \n",
      " |  __eq__(self, value, /)\n",
      " |      Return self==value.\n",
      " |  \n",
      " |  __format__(self, format_spec, /)\n",
      " |      Return a formatted version of the string as described by format_spec.\n",
      " |  \n",
      " |  __ge__(self, value, /)\n",
      " |      Return self>=value.\n",
      " |  \n",
      " |  __getattribute__(self, name, /)\n",
      " |      Return getattr(self, name).\n",
      " |  \n",
      " |  __getitem__(self, key, /)\n",
      " |      Return self[key].\n",
      " |  \n",
      " |  __getnewargs__(...)\n",
      " |  \n",
      " |  __gt__(self, value, /)\n",
      " |      Return self>value.\n",
      " |  \n",
      " |  __hash__(self, /)\n",
      " |      Return hash(self).\n",
      " |  \n",
      " |  __iter__(self, /)\n",
      " |      Implement iter(self).\n",
      " |  \n",
      " |  __le__(self, value, /)\n",
      " |      Return self<=value.\n",
      " |  \n",
      " |  __len__(self, /)\n",
      " |      Return len(self).\n",
      " |  \n",
      " |  __lt__(self, value, /)\n",
      " |      Return self<value.\n",
      " |  \n",
      " |  __mod__(self, value, /)\n",
      " |      Return self%value.\n",
      " |  \n",
      " |  __mul__(self, value, /)\n",
      " |      Return self*value.\n",
      " |  \n",
      " |  __ne__(self, value, /)\n",
      " |      Return self!=value.\n",
      " |  \n",
      " |  __repr__(self, /)\n",
      " |      Return repr(self).\n",
      " |  \n",
      " |  __rmod__(self, value, /)\n",
      " |      Return value%self.\n",
      " |  \n",
      " |  __rmul__(self, value, /)\n",
      " |      Return value*self.\n",
      " |  \n",
      " |  __sizeof__(self, /)\n",
      " |      Return the size of the string in memory, in bytes.\n",
      " |  \n",
      " |  __str__(self, /)\n",
      " |      Return str(self).\n",
      " |  \n",
      " |  capitalize(self, /)\n",
      " |      Return a capitalized version of the string.\n",
      " |      \n",
      " |      More specifically, make the first character have upper case and the rest lower\n",
      " |      case.\n",
      " |  \n",
      " |  casefold(self, /)\n",
      " |      Return a version of the string suitable for caseless comparisons.\n",
      " |  \n",
      " |  center(self, width, fillchar=' ', /)\n",
      " |      Return a centered string of length width.\n",
      " |      \n",
      " |      Padding is done using the specified fill character (default is a space).\n",
      " |  \n",
      " |  count(...)\n",
      " |      S.count(sub[, start[, end]]) -> int\n",
      " |      \n",
      " |      Return the number of non-overlapping occurrences of substring sub in\n",
      " |      string S[start:end].  Optional arguments start and end are\n",
      " |      interpreted as in slice notation.\n",
      " |  \n",
      " |  encode(self, /, encoding='utf-8', errors='strict')\n",
      " |      Encode the string using the codec registered for encoding.\n",
      " |      \n",
      " |      encoding\n",
      " |        The encoding in which to encode the string.\n",
      " |      errors\n",
      " |        The error handling scheme to use for encoding errors.\n",
      " |        The default is 'strict' meaning that encoding errors raise a\n",
      " |        UnicodeEncodeError.  Other possible values are 'ignore', 'replace' and\n",
      " |        'xmlcharrefreplace' as well as any other name registered with\n",
      " |        codecs.register_error that can handle UnicodeEncodeErrors.\n",
      " |  \n",
      " |  endswith(...)\n",
      " |      S.endswith(suffix[, start[, end]]) -> bool\n",
      " |      \n",
      " |      Return True if S ends with the specified suffix, False otherwise.\n",
      " |      With optional start, test S beginning at that position.\n",
      " |      With optional end, stop comparing S at that position.\n",
      " |      suffix can also be a tuple of strings to try.\n",
      " |  \n",
      " |  expandtabs(self, /, tabsize=8)\n",
      " |      Return a copy where all tab characters are expanded using spaces.\n",
      " |      \n",
      " |      If tabsize is not given, a tab size of 8 characters is assumed.\n",
      " |  \n",
      " |  find(...)\n",
      " |      S.find(sub[, start[, end]]) -> int\n",
      " |      \n",
      " |      Return the lowest index in S where substring sub is found,\n",
      " |      such that sub is contained within S[start:end].  Optional\n",
      " |      arguments start and end are interpreted as in slice notation.\n",
      " |      \n",
      " |      Return -1 on failure.\n",
      " |  \n",
      " |  format(...)\n",
      " |      S.format(*args, **kwargs) -> str\n",
      " |      \n",
      " |      Return a formatted version of S, using substitutions from args and kwargs.\n",
      " |      The substitutions are identified by braces ('{' and '}').\n",
      " |  \n",
      " |  format_map(...)\n",
      " |      S.format_map(mapping) -> str\n",
      " |      \n",
      " |      Return a formatted version of S, using substitutions from mapping.\n",
      " |      The substitutions are identified by braces ('{' and '}').\n",
      " |  \n",
      " |  index(...)\n",
      " |      S.index(sub[, start[, end]]) -> int\n",
      " |      \n",
      " |      Return the lowest index in S where substring sub is found,\n",
      " |      such that sub is contained within S[start:end].  Optional\n",
      " |      arguments start and end are interpreted as in slice notation.\n",
      " |      \n",
      " |      Raises ValueError when the substring is not found.\n",
      " |  \n",
      " |  isalnum(self, /)\n",
      " |      Return True if the string is an alpha-numeric string, False otherwise.\n",
      " |      \n",
      " |      A string is alpha-numeric if all characters in the string are alpha-numeric and\n",
      " |      there is at least one character in the string.\n",
      " |  \n",
      " |  isalpha(self, /)\n",
      " |      Return True if the string is an alphabetic string, False otherwise.\n",
      " |      \n",
      " |      A string is alphabetic if all characters in the string are alphabetic and there\n",
      " |      is at least one character in the string.\n",
      " |  \n",
      " |  isascii(self, /)\n",
      " |      Return True if all characters in the string are ASCII, False otherwise.\n",
      " |      \n",
      " |      ASCII characters have code points in the range U+0000-U+007F.\n",
      " |      Empty string is ASCII too.\n",
      " |  \n",
      " |  isdecimal(self, /)\n",
      " |      Return True if the string is a decimal string, False otherwise.\n",
      " |      \n",
      " |      A string is a decimal string if all characters in the string are decimal and\n",
      " |      there is at least one character in the string.\n",
      " |  \n",
      " |  isdigit(self, /)\n",
      " |      Return True if the string is a digit string, False otherwise.\n",
      " |      \n",
      " |      A string is a digit string if all characters in the string are digits and there\n",
      " |      is at least one character in the string.\n",
      " |  \n",
      " |  isidentifier(self, /)\n",
      " |      Return True if the string is a valid Python identifier, False otherwise.\n",
      " |      \n",
      " |      Call keyword.iskeyword(s) to test whether string s is a reserved identifier,\n",
      " |      such as \"def\" or \"class\".\n",
      " |  \n",
      " |  islower(self, /)\n",
      " |      Return True if the string is a lowercase string, False otherwise.\n",
      " |      \n",
      " |      A string is lowercase if all cased characters in the string are lowercase and\n",
      " |      there is at least one cased character in the string.\n",
      " |  \n",
      " |  isnumeric(self, /)\n",
      " |      Return True if the string is a numeric string, False otherwise.\n",
      " |      \n",
      " |      A string is numeric if all characters in the string are numeric and there is at\n",
      " |      least one character in the string.\n",
      " |  \n",
      " |  isprintable(self, /)\n",
      " |      Return True if the string is printable, False otherwise.\n",
      " |      \n",
      " |      A string is printable if all of its characters are considered printable in\n",
      " |      repr() or if it is empty.\n",
      " |  \n",
      " |  isspace(self, /)\n",
      " |      Return True if the string is a whitespace string, False otherwise.\n",
      " |      \n",
      " |      A string is whitespace if all characters in the string are whitespace and there\n",
      " |      is at least one character in the string.\n",
      " |  \n",
      " |  istitle(self, /)\n",
      " |      Return True if the string is a title-cased string, False otherwise.\n",
      " |      \n",
      " |      In a title-cased string, upper- and title-case characters may only\n",
      " |      follow uncased characters and lowercase characters only cased ones.\n",
      " |  \n",
      " |  isupper(self, /)\n",
      " |      Return True if the string is an uppercase string, False otherwise.\n",
      " |      \n",
      " |      A string is uppercase if all cased characters in the string are uppercase and\n",
      " |      there is at least one cased character in the string.\n",
      " |  \n",
      " |  join(self, iterable, /)\n",
      " |      Concatenate any number of strings.\n",
      " |      \n",
      " |      The string whose method is called is inserted in between each given string.\n",
      " |      The result is returned as a new string.\n",
      " |      \n",
      " |      Example: '.'.join(['ab', 'pq', 'rs']) -> 'ab.pq.rs'\n",
      " |  \n",
      " |  ljust(self, width, fillchar=' ', /)\n",
      " |      Return a left-justified string of length width.\n",
      " |      \n",
      " |      Padding is done using the specified fill character (default is a space).\n",
      " |  \n",
      " |  lower(self, /)\n",
      " |      Return a copy of the string converted to lowercase.\n",
      " |  \n",
      " |  lstrip(self, chars=None, /)\n",
      " |      Return a copy of the string with leading whitespace removed.\n",
      " |      \n",
      " |      If chars is given and not None, remove characters in chars instead.\n",
      " |  \n",
      " |  partition(self, sep, /)\n",
      " |      Partition the string into three parts using the given separator.\n",
      " |      \n",
      " |      This will search for the separator in the string.  If the separator is found,\n",
      " |      returns a 3-tuple containing the part before the separator, the separator\n",
      " |      itself, and the part after it.\n",
      " |      \n",
      " |      If the separator is not found, returns a 3-tuple containing the original string\n",
      " |      and two empty strings.\n",
      " |  \n",
      " |  removeprefix(self, prefix, /)\n",
      " |      Return a str with the given prefix string removed if present.\n",
      " |      \n",
      " |      If the string starts with the prefix string, return string[len(prefix):].\n",
      " |      Otherwise, return a copy of the original string.\n",
      " |  \n",
      " |  removesuffix(self, suffix, /)\n",
      " |      Return a str with the given suffix string removed if present.\n",
      " |      \n",
      " |      If the string ends with the suffix string and that suffix is not empty,\n",
      " |      return string[:-len(suffix)]. Otherwise, return a copy of the original\n",
      " |      string.\n",
      " |  \n",
      " |  replace(self, old, new, count=-1, /)\n",
      " |      Return a copy with all occurrences of substring old replaced by new.\n",
      " |      \n",
      " |        count\n",
      " |          Maximum number of occurrences to replace.\n",
      " |          -1 (the default value) means replace all occurrences.\n",
      " |      \n",
      " |      If the optional argument count is given, only the first count occurrences are\n",
      " |      replaced.\n",
      " |  \n",
      " |  rfind(...)\n",
      " |      S.rfind(sub[, start[, end]]) -> int\n",
      " |      \n",
      " |      Return the highest index in S where substring sub is found,\n",
      " |      such that sub is contained within S[start:end].  Optional\n",
      " |      arguments start and end are interpreted as in slice notation.\n",
      " |      \n",
      " |      Return -1 on failure.\n",
      " |  \n",
      " |  rindex(...)\n",
      " |      S.rindex(sub[, start[, end]]) -> int\n",
      " |      \n",
      " |      Return the highest index in S where substring sub is found,\n",
      " |      such that sub is contained within S[start:end].  Optional\n",
      " |      arguments start and end are interpreted as in slice notation.\n",
      " |      \n",
      " |      Raises ValueError when the substring is not found.\n",
      " |  \n",
      " |  rjust(self, width, fillchar=' ', /)\n",
      " |      Return a right-justified string of length width.\n",
      " |      \n",
      " |      Padding is done using the specified fill character (default is a space).\n",
      " |  \n",
      " |  rpartition(self, sep, /)\n",
      " |      Partition the string into three parts using the given separator.\n",
      " |      \n",
      " |      This will search for the separator in the string, starting at the end. If\n",
      " |      the separator is found, returns a 3-tuple containing the part before the\n",
      " |      separator, the separator itself, and the part after it.\n",
      " |      \n",
      " |      If the separator is not found, returns a 3-tuple containing two empty strings\n",
      " |      and the original string.\n",
      " |  \n",
      " |  rsplit(self, /, sep=None, maxsplit=-1)\n",
      " |      Return a list of the words in the string, using sep as the delimiter string.\n",
      " |      \n",
      " |        sep\n",
      " |          The delimiter according which to split the string.\n",
      " |          None (the default value) means split according to any whitespace,\n",
      " |          and discard empty strings from the result.\n",
      " |        maxsplit\n",
      " |          Maximum number of splits to do.\n",
      " |          -1 (the default value) means no limit.\n",
      " |      \n",
      " |      Splits are done starting at the end of the string and working to the front.\n",
      " |  \n",
      " |  rstrip(self, chars=None, /)\n",
      " |      Return a copy of the string with trailing whitespace removed.\n",
      " |      \n",
      " |      If chars is given and not None, remove characters in chars instead.\n",
      " |  \n",
      " |  split(self, /, sep=None, maxsplit=-1)\n",
      " |      Return a list of the words in the string, using sep as the delimiter string.\n",
      " |      \n",
      " |      sep\n",
      " |        The delimiter according which to split the string.\n",
      " |        None (the default value) means split according to any whitespace,\n",
      " |        and discard empty strings from the result.\n",
      " |      maxsplit\n",
      " |        Maximum number of splits to do.\n",
      " |        -1 (the default value) means no limit.\n",
      " |  \n",
      " |  splitlines(self, /, keepends=False)\n",
      " |      Return a list of the lines in the string, breaking at line boundaries.\n",
      " |      \n",
      " |      Line breaks are not included in the resulting list unless keepends is given and\n",
      " |      true.\n",
      " |  \n",
      " |  startswith(...)\n",
      " |      S.startswith(prefix[, start[, end]]) -> bool\n",
      " |      \n",
      " |      Return True if S starts with the specified prefix, False otherwise.\n",
      " |      With optional start, test S beginning at that position.\n",
      " |      With optional end, stop comparing S at that position.\n",
      " |      prefix can also be a tuple of strings to try.\n",
      " |  \n",
      " |  strip(self, chars=None, /)\n",
      " |      Return a copy of the string with leading and trailing whitespace removed.\n",
      " |      \n",
      " |      If chars is given and not None, remove characters in chars instead.\n",
      " |  \n",
      " |  swapcase(self, /)\n",
      " |      Convert uppercase characters to lowercase and lowercase characters to uppercase.\n",
      " |  \n",
      " |  title(self, /)\n",
      " |      Return a version of the string where each word is titlecased.\n",
      " |      \n",
      " |      More specifically, words start with uppercased characters and all remaining\n",
      " |      cased characters have lower case.\n",
      " |  \n",
      " |  translate(self, table, /)\n",
      " |      Replace each character in the string using the given translation table.\n",
      " |      \n",
      " |        table\n",
      " |          Translation table, which must be a mapping of Unicode ordinals to\n",
      " |          Unicode ordinals, strings, or None.\n",
      " |      \n",
      " |      The table must implement lookup/indexing via __getitem__, for instance a\n",
      " |      dictionary or list.  If this operation raises LookupError, the character is\n",
      " |      left untouched.  Characters mapped to None are deleted.\n",
      " |  \n",
      " |  upper(self, /)\n",
      " |      Return a copy of the string converted to uppercase.\n",
      " |  \n",
      " |  zfill(self, width, /)\n",
      " |      Pad a numeric string with zeros on the left, to fill a field of the given width.\n",
      " |      \n",
      " |      The string is never truncated.\n",
      " |  \n",
      " |  ----------------------------------------------------------------------\n",
      " |  Static methods defined here:\n",
      " |  \n",
      " |  __new__(*args, **kwargs) from builtins.type\n",
      " |      Create and return a new object.  See help(type) for accurate signature.\n",
      " |  \n",
      " |  maketrans(...)\n",
      " |      Return a translation table usable for str.translate().\n",
      " |      \n",
      " |      If there is only one argument, it must be a dictionary mapping Unicode\n",
      " |      ordinals (integers) or characters to Unicode ordinals, strings or None.\n",
      " |      Character keys will be then converted to ordinals.\n",
      " |      If there are two arguments, they must be strings of equal length, and\n",
      " |      in the resulting dictionary, each character in x will be mapped to the\n",
      " |      character at the same position in y. If there is a third argument, it\n",
      " |      must be a string, whose characters will be mapped to None in the result.\n",
      "\n"
     ]
    }
   ],
   "source": [
    "help(str)"
   ]
  },
  {
   "cell_type": "markdown",
   "metadata": {
    "pycharm": {
     "name": "#%% md\n"
    },
    "slideshow": {
     "slide_type": "subslide"
    }
   },
   "source": [
    "# Strings"
   ]
  },
  {
   "cell_type": "code",
   "execution_count": 7,
   "metadata": {
    "pycharm": {
     "name": "#%%\n"
    },
    "slideshow": {
     "slide_type": "fragment"
    }
   },
   "outputs": [
    {
     "data": {
      "text/plain": [
       "'welcome'"
      ]
     },
     "execution_count": 7,
     "metadata": {},
     "output_type": "execute_result"
    }
   ],
   "source": [
    "my_string = \"welcome\"\n",
    "my_string"
   ]
  },
  {
   "cell_type": "code",
   "execution_count": 8,
   "metadata": {
    "pycharm": {
     "name": "#%%\n"
    },
    "slideshow": {
     "slide_type": "fragment"
    }
   },
   "outputs": [
    {
     "data": {
      "text/plain": [
       "'welcome to python'"
      ]
     },
     "execution_count": 8,
     "metadata": {},
     "output_type": "execute_result"
    }
   ],
   "source": [
    "my_string + \" to python\""
   ]
  },
  {
   "cell_type": "code",
   "execution_count": 10,
   "metadata": {
    "pycharm": {
     "name": "#%%\n"
    },
    "slideshow": {
     "slide_type": "fragment"
    }
   },
   "outputs": [
    {
     "data": {
      "text/plain": [
       "'welcomewelcome'"
      ]
     },
     "execution_count": 10,
     "metadata": {},
     "output_type": "execute_result"
    }
   ],
   "source": [
    "my_string*2"
   ]
  },
  {
   "cell_type": "code",
   "execution_count": null,
   "metadata": {
    "pycharm": {
     "name": "#%%\n"
    },
    "slideshow": {
     "slide_type": "fragment"
    }
   },
   "outputs": [],
   "source": [
    "'m' in my_string"
   ]
  },
  {
   "cell_type": "markdown",
   "metadata": {
    "pycharm": {
     "name": "#%% md\n"
    },
    "slideshow": {
     "slide_type": "subslide"
    }
   },
   "source": [
    "# Lists"
   ]
  },
  {
   "cell_type": "code",
   "execution_count": null,
   "metadata": {
    "pycharm": {
     "name": "#%%\n"
    },
    "slideshow": {
     "slide_type": "fragment"
    }
   },
   "outputs": [],
   "source": [
    "a = 'is'\n",
    "b = 'nice'\n",
    "my_list = ['my', 'list', a, b] \n",
    "my_list"
   ]
  },
  {
   "cell_type": "code",
   "execution_count": null,
   "metadata": {
    "pycharm": {
     "name": "#%%\n"
    },
    "slideshow": {
     "slide_type": "fragment"
    }
   },
   "outputs": [],
   "source": [
    "\" \".join(my_list) "
   ]
  },
  {
   "cell_type": "code",
   "execution_count": null,
   "metadata": {
    "pycharm": {
     "name": "#%%\n"
    },
    "slideshow": {
     "slide_type": "fragment"
    }
   },
   "outputs": [],
   "source": [
    "my_list2 = [[4,5,6,7], [3,4,5,6]]\n",
    "my_list2\n"
   ]
  },
  {
   "cell_type": "markdown",
   "metadata": {
    "pycharm": {
     "name": "#%% md\n"
    },
    "slideshow": {
     "slide_type": "subslide"
    }
   },
   "source": [
    "# Selecting List Elements\n"
   ]
  },
  {
   "cell_type": "code",
   "execution_count": null,
   "metadata": {
    "pycharm": {
     "name": "#%%\n"
    },
    "slideshow": {
     "slide_type": "fragment"
    }
   },
   "outputs": [],
   "source": [
    "# Subset\n",
    "my_list[0]"
   ]
  },
  {
   "cell_type": "code",
   "execution_count": null,
   "metadata": {
    "pycharm": {
     "name": "#%%\n"
    },
    "slideshow": {
     "slide_type": "fragment"
    }
   },
   "outputs": [],
   "source": [
    "my_list[-3]"
   ]
  },
  {
   "cell_type": "markdown",
   "metadata": {
    "pycharm": {
     "name": "#%% md\n"
    },
    "slideshow": {
     "slide_type": "subslide"
    }
   },
   "source": [
    "# List Methods"
   ]
  },
  {
   "cell_type": "raw",
   "metadata": {
    "pycharm": {
     "name": "#%% raw\n"
    },
    "slideshow": {
     "slide_type": "fragment"
    }
   },
   "source": [
    "my_list.index(a)        # Get the index of an item\n",
    "my_list.count(a)        # Count an item\n",
    "my_list.append('!')     # Append an item at a time\n",
    "my_list.remove('!')     # Remove an item\n",
    "del(my_list[0:1])       # Remove an item\n",
    "my_list.reverse()       # Reverse the list\n",
    "my_list.extend('!')     # Append an item\n",
    "my_list.pop(-1)         # Remove an item\n",
    "my_list.insert(0,'!')   # Insert an item\n",
    "my_list.sort()          # Sort the list"
   ]
  },
  {
   "cell_type": "markdown",
   "metadata": {
    "pycharm": {
     "name": "#%% md\n"
    },
    "slideshow": {
     "slide_type": "subslide"
    }
   },
   "source": [
    "# Libraries"
   ]
  },
  {
   "cell_type": "code",
   "execution_count": 18,
   "metadata": {
    "pycharm": {
     "name": "#%%\n"
    },
    "slideshow": {
     "slide_type": "fragment"
    }
   },
   "outputs": [],
   "source": [
    "# Import libraries\n",
    "import numpy as np\n",
    "import pandas as pd\n",
    "\n",
    "# Selective import\n",
    "from math import pi"
   ]
  }
 ],
 "metadata": {
  "celltoolbar": "Slideshow",
  "jupytext": {
   "cell_metadata_filter": "out.width,message,tags,name,warning,-all",
   "main_language": "R",
   "notebook_metadata_filter": "-all"
  },
  "kernelspec": {
   "display_name": "Python 3",
   "language": "python",
   "name": "python3"
  },
  "language_info": {
   "codemirror_mode": {
    "name": "ipython",
    "version": 3
   },
   "file_extension": ".py",
   "mimetype": "text/x-python",
   "name": "python",
   "nbconvert_exporter": "python",
   "pygments_lexer": "ipython3",
   "version": "3.8.8"
  },
  "varInspector": {
   "cols": {
    "lenName": 16,
    "lenType": 16,
    "lenVar": 40
   },
   "kernels_config": {
    "python": {
     "delete_cmd_postfix": "",
     "delete_cmd_prefix": "del ",
     "library": "var_list.py",
     "varRefreshCmd": "print(var_dic_list())"
    },
    "r": {
     "delete_cmd_postfix": ") ",
     "delete_cmd_prefix": "rm(",
     "library": "var_list.r",
     "varRefreshCmd": "cat(var_dic_list()) "
    }
   },
   "types_to_exclude": [
    "module",
    "function",
    "builtin_function_or_method",
    "instance",
    "_Feature"
   ],
   "window_display": false
  }
 },
 "nbformat": 4,
 "nbformat_minor": 4
}
