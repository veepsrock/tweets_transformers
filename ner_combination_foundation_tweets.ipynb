{
 "cells": [
  {
   "cell_type": "markdown",
   "id": "23077471-3769-41be-9921-249efabbc79e",
   "metadata": {},
   "source": [
    "## This is a notebook to recombine NER entities into one"
   ]
  },
  {
   "cell_type": "code",
   "execution_count": 1,
   "id": "c74e8a51-7463-4070-828d-d9476a7ba967",
   "metadata": {},
   "outputs": [],
   "source": [
    "import pandas as pd\n",
    "import re\n",
    "import numpy as np"
   ]
  },
  {
   "cell_type": "code",
   "execution_count": 49,
   "id": "8ebf399f-7fc9-49f3-b14b-360ec9da63c5",
   "metadata": {},
   "outputs": [],
   "source": [
    "df = pd.read_csv(\"landmine_tweets_ner_results_eng.csv\")"
   ]
  },
  {
   "cell_type": "code",
   "execution_count": 50,
   "id": "b2235e62-ffee-450f-9222-a7511fbff1af",
   "metadata": {},
   "outputs": [
    {
     "data": {
      "text/plain": [
       "(5103, 8)"
      ]
     },
     "execution_count": 50,
     "metadata": {},
     "output_type": "execute_result"
    }
   ],
   "source": [
    "df.shape"
   ]
  },
  {
   "cell_type": "code",
   "execution_count": 34,
   "id": "ffb33c84-7b4b-47c5-a2c2-ec029b4c73a6",
   "metadata": {},
   "outputs": [],
   "source": [
    "df['tagged_text'] = df['tagged_text'].fillna(\" \")"
   ]
  },
  {
   "cell_type": "code",
   "execution_count": 35,
   "id": "0115f4dd-f1f9-463e-83ff-4de9cd59dedc",
   "metadata": {},
   "outputs": [],
   "source": [
    "#df = df[df[\"tagged_text\"] != \"RT\"].reset_index()"
   ]
  },
  {
   "cell_type": "code",
   "execution_count": 36,
   "id": "a2c73e97-52af-48ad-a0c6-f20b9ff91d68",
   "metadata": {},
   "outputs": [
    {
     "data": {
      "text/plain": [
       "(5103, 8)"
      ]
     },
     "execution_count": 36,
     "metadata": {},
     "output_type": "execute_result"
    }
   ],
   "source": [
    "df.shape"
   ]
  },
  {
   "cell_type": "code",
   "execution_count": 47,
   "id": "2f98c9b1-e394-4d02-a9cb-484989560de0",
   "metadata": {},
   "outputs": [],
   "source": [
    "#df = clean_tweets(df, \"tagged_text\")"
   ]
  },
  {
   "cell_type": "code",
   "execution_count": 45,
   "id": "3fe51c52-02be-4d6c-9dde-b631dae03d1b",
   "metadata": {},
   "outputs": [],
   "source": [
    "df['tagged_text'] = df[\"tagged_text\"].str.replace(\"##\", \"\")"
   ]
  },
  {
   "cell_type": "code",
   "execution_count": 37,
   "id": "d0d73192-d773-42cf-b12f-7037e628603d",
   "metadata": {},
   "outputs": [],
   "source": [
    "# function to combine ner tags\n",
    "def combine_ner_tags(df, spacer):\n",
    "    \"\"\"\n",
    "    Function to recombine NER tags from B- to I-\n",
    "    df = dataframe\n",
    "    spacer = what kind of spacing to use to combine text. Use \"\" for non english and \" \" for english\n",
    "    \"\"\"\n",
    "    combined_tokens = []\n",
    "    cur_tokens = [df.loc[0, \"tagged_text\"]]\n",
    "    for i in range(1, len(df)):\n",
    "        if df.loc[i, \"ner_tag\"].startswith(\"B-\"):\n",
    "            combined_tokens.append(cur_tokens)\n",
    "            cur_tokens = [df.loc[i, \"tagged_text\"]]\n",
    "        elif df.loc[i, \"ner_tag\"].startswith(\"I-\"):\n",
    "             cur_tokens.append(df.loc[i, \"tagged_text\"])\n",
    "    b_tags = df[df[\"ner_tag\"].str.startswith(\"B-\")]\n",
    "    combined_tokens.append([b_tags.tail(1)[\"tagged_text\"].values[0]])\n",
    "    # update the combined text join based on which language. no space for non_eng\n",
    "    combined_text = [spacer.join(i) for i in combined_tokens]\n",
    "    b_tags[\"tagged_text\"] = combined_text\n",
    "    return b_tags"
   ]
  },
  {
   "cell_type": "code",
   "execution_count": 23,
   "id": "66c0aca4-22d1-41f6-8b16-598635b32ab8",
   "metadata": {},
   "outputs": [],
   "source": [
    "def combine_ner_tags(df):\n",
    "    combined_tokens = []\n",
    "    cur_tokens = [df.loc[0, \"tagged_text\"]]\n",
    "    for i in range(1, len(df)):\n",
    "        if df.loc[i, \"ner_tag\"].startswith(\"B-\"):\n",
    "            combined_tokens.append(cur_tokens)\n",
    "            cur_tokens = [df.loc[i, \"tagged_text\"]]\n",
    "        elif df.loc[i, \"ner_tag\"].startswith(\"I-\"):\n",
    "             cur_tokens.append(df.loc[i, \"tagged_text\"])\n",
    "    b_tags = df[df[\"ner_tag\"].str.startswith(\"B-\")]\n",
    "    combined_tokens.append([b_tags.tail(1)[\"tagged_text\"].values[0]])\n",
    "    # update the combined text join based on which language. no space for non_eng\n",
    "    combined_text = [' '.join(i) for i in combined_tokens]\n",
    "    b_tags[\"tagged_text\"] = combined_text\n",
    "    return b_tags"
   ]
  },
  {
   "cell_type": "code",
   "execution_count": 38,
   "id": "9d1b1cae-21ae-4253-a074-84913abb0341",
   "metadata": {},
   "outputs": [
    {
     "name": "stderr",
     "output_type": "stream",
     "text": [
      "/tmp/ipykernel_761/1601176712.py:20: SettingWithCopyWarning: \n",
      "A value is trying to be set on a copy of a slice from a DataFrame.\n",
      "Try using .loc[row_indexer,col_indexer] = value instead\n",
      "\n",
      "See the caveats in the documentation: https://pandas.pydata.org/pandas-docs/stable/user_guide/indexing.html#returning-a-view-versus-a-copy\n",
      "  b_tags[\"tagged_text\"] = combined_text\n"
     ]
    }
   ],
   "source": [
    "df_combined = combine_ner_tags(df, \" \")"
   ]
  },
  {
   "cell_type": "code",
   "execution_count": 39,
   "id": "b7aa8490-2a96-47cc-b4ad-7fedb9779ee0",
   "metadata": {},
   "outputs": [
    {
     "data": {
      "text/plain": [
       "(2530, 8)"
      ]
     },
     "execution_count": 39,
     "metadata": {},
     "output_type": "execute_result"
    }
   ],
   "source": [
    "df_combined.shape"
   ]
  },
  {
   "cell_type": "code",
   "execution_count": 40,
   "id": "9a7563fa-2fe9-48cc-a052-6e87129e0b14",
   "metadata": {},
   "outputs": [],
   "source": [
    "df_combined = df_combined[df_combined[\"tagged_text\"] != \"\"]"
   ]
  },
  {
   "cell_type": "code",
   "execution_count": 41,
   "id": "5366f570-08a1-49b9-be72-ba288cd8c94f",
   "metadata": {},
   "outputs": [],
   "source": [
    "df_combined = df_combined[df_combined[\"tagged_text\"] != \" \"]"
   ]
  },
  {
   "cell_type": "code",
   "execution_count": 42,
   "id": "cb0dbea1-97fa-4e5e-ad6e-bba2f40af07c",
   "metadata": {},
   "outputs": [
    {
     "data": {
      "text/plain": [
       "(2527, 8)"
      ]
     },
     "execution_count": 42,
     "metadata": {},
     "output_type": "execute_result"
    }
   ],
   "source": [
    "df_combined.shape"
   ]
  },
  {
   "cell_type": "code",
   "execution_count": 44,
   "id": "f97b9984-aa36-41bb-984f-f79266829e29",
   "metadata": {},
   "outputs": [
    {
     "data": {
      "text/html": [
       "<div>\n",
       "<style scoped>\n",
       "    .dataframe tbody tr th:only-of-type {\n",
       "        vertical-align: middle;\n",
       "    }\n",
       "\n",
       "    .dataframe tbody tr th {\n",
       "        vertical-align: top;\n",
       "    }\n",
       "\n",
       "    .dataframe thead th {\n",
       "        text-align: right;\n",
       "    }\n",
       "</style>\n",
       "<table border=\"1\" class=\"dataframe\">\n",
       "  <thead>\n",
       "    <tr style=\"text-align: right;\">\n",
       "      <th></th>\n",
       "      <th>document_id</th>\n",
       "      <th>sentence_number</th>\n",
       "      <th>sentence_text</th>\n",
       "      <th>tagged_text</th>\n",
       "      <th>ner_tag</th>\n",
       "      <th>tagged_text_loci</th>\n",
       "      <th>ner_model</th>\n",
       "      <th>probability</th>\n",
       "    </tr>\n",
       "  </thead>\n",
       "  <tbody>\n",
       "    <tr>\n",
       "      <th>0</th>\n",
       "      <td>1635764993353195526</td>\n",
       "      <td>1</td>\n",
       "      <td>rt an israeli motorist was seriously wounded b...</td>\n",
       "      <td>israeli</td>\n",
       "      <td>B-person</td>\n",
       "      <td>2</td>\n",
       "      <td>tner/bert-large-tweetner7-2020</td>\n",
       "      <td>0.996506</td>\n",
       "    </tr>\n",
       "    <tr>\n",
       "      <th>1</th>\n",
       "      <td>1635764993353195526</td>\n",
       "      <td>1</td>\n",
       "      <td>rt an israeli motorist was seriously wounded b...</td>\n",
       "      <td>bomb</td>\n",
       "      <td>B-event</td>\n",
       "      <td>9</td>\n",
       "      <td>tner/bert-large-tweetner7-2020</td>\n",
       "      <td>0.679351</td>\n",
       "    </tr>\n",
       "    <tr>\n",
       "      <th>2</th>\n",
       "      <td>1635764993353195526</td>\n",
       "      <td>1</td>\n",
       "      <td>rt an israeli motorist was seriously wounded b...</td>\n",
       "      <td>north</td>\n",
       "      <td>B-location</td>\n",
       "      <td>12</td>\n",
       "      <td>tner/bert-large-tweetner7-2020</td>\n",
       "      <td>0.999964</td>\n",
       "    </tr>\n",
       "    <tr>\n",
       "      <th>3</th>\n",
       "      <td>1635742122350444550</td>\n",
       "      <td>1</td>\n",
       "      <td>rt an israeli motorist was seriously wounded b...</td>\n",
       "      <td>israeli</td>\n",
       "      <td>B-person</td>\n",
       "      <td>2</td>\n",
       "      <td>tner/bert-large-tweetner7-2020</td>\n",
       "      <td>0.996506</td>\n",
       "    </tr>\n",
       "    <tr>\n",
       "      <th>4</th>\n",
       "      <td>1635742122350444550</td>\n",
       "      <td>1</td>\n",
       "      <td>rt an israeli motorist was seriously wounded b...</td>\n",
       "      <td>bomb</td>\n",
       "      <td>B-event</td>\n",
       "      <td>9</td>\n",
       "      <td>tner/bert-large-tweetner7-2020</td>\n",
       "      <td>0.679351</td>\n",
       "    </tr>\n",
       "  </tbody>\n",
       "</table>\n",
       "</div>"
      ],
      "text/plain": [
       "           document_id  sentence_number  \\\n",
       "0  1635764993353195526                1   \n",
       "1  1635764993353195526                1   \n",
       "2  1635764993353195526                1   \n",
       "3  1635742122350444550                1   \n",
       "4  1635742122350444550                1   \n",
       "\n",
       "                                       sentence_text tagged_text     ner_tag  \\\n",
       "0  rt an israeli motorist was seriously wounded b...     israeli    B-person   \n",
       "1  rt an israeli motorist was seriously wounded b...        bomb     B-event   \n",
       "2  rt an israeli motorist was seriously wounded b...       north  B-location   \n",
       "3  rt an israeli motorist was seriously wounded b...     israeli    B-person   \n",
       "4  rt an israeli motorist was seriously wounded b...        bomb     B-event   \n",
       "\n",
       "   tagged_text_loci                       ner_model  probability  \n",
       "0                 2  tner/bert-large-tweetner7-2020     0.996506  \n",
       "1                 9  tner/bert-large-tweetner7-2020     0.679351  \n",
       "2                12  tner/bert-large-tweetner7-2020     0.999964  \n",
       "3                 2  tner/bert-large-tweetner7-2020     0.996506  \n",
       "4                 9  tner/bert-large-tweetner7-2020     0.679351  "
      ]
     },
     "execution_count": 44,
     "metadata": {},
     "output_type": "execute_result"
    }
   ],
   "source": [
    "df_combined.head()"
   ]
  },
  {
   "cell_type": "code",
   "execution_count": 31,
   "id": "55fa774d-a30f-420e-99f2-1fb5217204be",
   "metadata": {},
   "outputs": [],
   "source": [
    "df_combined.to_csv(\"landmine_tweets_ner_results_eng_clean.csv\", index = False)"
   ]
  },
  {
   "cell_type": "code",
   "execution_count": null,
   "id": "197ed0cb-8f2e-44c9-ae79-5c25564c8869",
   "metadata": {},
   "outputs": [],
   "source": []
  }
 ],
 "metadata": {
  "kernelspec": {
   "display_name": "Python 3 (ipykernel)",
   "language": "python",
   "name": "python3"
  },
  "language_info": {
   "codemirror_mode": {
    "name": "ipython",
    "version": 3
   },
   "file_extension": ".py",
   "mimetype": "text/x-python",
   "name": "python",
   "nbconvert_exporter": "python",
   "pygments_lexer": "ipython3",
   "version": "3.8.8"
  }
 },
 "nbformat": 4,
 "nbformat_minor": 5
}
